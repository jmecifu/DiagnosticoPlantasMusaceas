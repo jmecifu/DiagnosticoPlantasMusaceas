{
  "nbformat": 4,
  "nbformat_minor": 0,
  "metadata": {
    "kernelspec": {
      "display_name": "Python 3",
      "language": "python",
      "name": "python3"
    },
    "language_info": {
      "codemirror_mode": {
        "name": "ipython",
        "version": 3
      },
      "file_extension": ".py",
      "mimetype": "text/x-python",
      "name": "python",
      "nbconvert_exporter": "python",
      "pygments_lexer": "ipython3",
      "version": "3.8.6"
    },
    "colab": {
      "name": "DeteccionDePlagasMusaceas .ipynb",
      "provenance": [],
      "collapsed_sections": [
        "BM9CpTGquaW-",
        "SqNcc9I9uaXB",
        "QVyvcqX-uaXC",
        "eRiUJZizuaXC",
        "fHoQKVTHuaXE",
        "eKEf1NEbuaXF"
      ],
      "include_colab_link": true
    },
    "accelerator": "GPU"
  },
  "cells": [
    {
      "cell_type": "markdown",
      "metadata": {
        "id": "view-in-github",
        "colab_type": "text"
      },
      "source": [
        "<a href=\"https://colab.research.google.com/github/jmecifu/DiagnosticoPlantasMusaceas/blob/main/DeteccionDePlagasMusaceas.ipynb\" target=\"_parent\"><img src=\"https://colab.research.google.com/assets/colab-badge.svg\" alt=\"Open In Colab\"/></a>"
      ]
    },
    {
      "cell_type": "markdown",
      "metadata": {
        "id": "khyHq7WyuaWp"
      },
      "source": [
        "# | Procesamiento de imágenes para la detección de plagas en plantas musáceas"
      ]
    },
    {
      "cell_type": "markdown",
      "metadata": {
        "id": "plDfSgjNuaWr"
      },
      "source": [
        "## 1:Importar las Librerías necesarias"
      ]
    },
    {
      "cell_type": "code",
      "metadata": {
        "id": "iXIaiPdruaWs"
      },
      "source": [
        "import os\n",
        "import cv2 \n",
        "import keras\n",
        "import random\n",
        "import sklearn\n",
        "import numpy as np\n",
        "import pandas as pd\n",
        "import seaborn as sns\n",
        "import tensorflow as tf\n",
        "import matplotlib.pyplot as plt \n",
        "from keras.models import Sequential\n",
        "from tensorflow.keras.utils import to_categorical\n",
        "from sklearn.metrics import accuracy_score\n",
        "from sklearn.metrics import confusion_matrix\n",
        "from keras.preprocessing.image import load_img\n",
        "from sklearn.metrics import classification_report\n",
        "from keras.preprocessing.image import img_to_array\n",
        "from sklearn.model_selection import train_test_split\n",
        "from keras.preprocessing.image import ImageDataGenerator\n",
        "from keras.layers import Conv2D, MaxPooling2D, Flatten, Dense, Dropout\n"
      ],
      "execution_count": null,
      "outputs": []
    },
    {
      "cell_type": "markdown",
      "metadata": {
        "id": "5GRfvIgtuaWz"
      },
      "source": [
        "\n",
        "## 2. Importando imágenes"
      ]
    },
    {
      "cell_type": "code",
      "metadata": {
        "id": "Y5q8LsHiWiRC"
      },
      "source": [
        "!pip install -U -q PyDrive\n",
        "from pydrive.auth import GoogleAuth\n",
        "from pydrive.drive import GoogleDrive\n",
        "from google.colab import auth\n",
        "from oauth2client.client import GoogleCredentials\n"
      ],
      "execution_count": null,
      "outputs": []
    },
    {
      "cell_type": "markdown",
      "metadata": {
        "id": "QLd_tEz0T-5S"
      },
      "source": [
        "### Autenticación de Usuario Google Drive"
      ]
    },
    {
      "cell_type": "code",
      "metadata": {
        "id": "DGkSh3LgXTLx"
      },
      "source": [
        "auth.authenticate_user()\n",
        "gauth = GoogleAuth()\n",
        "gauth.credentials = GoogleCredentials.get_application_default()\n",
        "drive= GoogleDrive(gauth)"
      ],
      "execution_count": null,
      "outputs": []
    },
    {
      "cell_type": "markdown",
      "metadata": {
        "id": "Fv6ZJL_DUGRt"
      },
      "source": [
        "### *Trabajando con Archivos Zip*\n",
        "\n",
        "> Bacterias (1er Dataset)\n",
        "\n"
      ]
    },
    {
      "cell_type": "code",
      "metadata": {
        "id": "pZHsQtx6XwIc"
      },
      "source": [
        "bacid = drive.ListFile({'q':\"title='Bacterias.zip'\"}).GetList()[0]['id']\n",
        "bac = drive.CreateFile({'id': bacid})\n",
        "bac.GetContentFile('Bacterias.zip')\n"
      ],
      "execution_count": null,
      "outputs": []
    },
    {
      "cell_type": "code",
      "metadata": {
        "colab": {
          "base_uri": "https://localhost:8080/"
        },
        "id": "eZPFBqehdyut",
        "outputId": "b801b904-64ce-47ed-be4a-04ab96530a83"
      },
      "source": [
        "bac.keys()"
      ],
      "execution_count": null,
      "outputs": [
        {
          "output_type": "execute_result",
          "data": {
            "text/plain": [
              "dict_keys(['id', 'kind', 'etag', 'selfLink', 'webContentLink', 'alternateLink', 'embedLink', 'iconLink', 'title', 'mimeType', 'labels', 'copyRequiresWriterPermission', 'createdDate', 'modifiedDate', 'modifiedByMeDate', 'lastViewedByMeDate', 'markedViewedByMeDate', 'version', 'parents', 'downloadUrl', 'userPermission', 'originalFilename', 'fileExtension', 'md5Checksum', 'fileSize', 'quotaBytesUsed', 'ownerNames', 'owners', 'lastModifyingUserName', 'lastModifyingUser', 'capabilities', 'editable', 'copyable', 'writersCanShare', 'shared', 'explicitlyTrashed', 'appDataContents', 'headRevisionId', 'spaces'])"
            ]
          },
          "metadata": {},
          "execution_count": 5
        }
      ]
    },
    {
      "cell_type": "code",
      "metadata": {
        "id": "PwF6zT0zeNCV"
      },
      "source": [
        "!unzip 'Bacterias.zip'"
      ],
      "execution_count": null,
      "outputs": []
    },
    {
      "cell_type": "code",
      "metadata": {
        "id": "v9G3T9vDegI1"
      },
      "source": [
        "PATH = '/content/Bacterias'"
      ],
      "execution_count": null,
      "outputs": []
    },
    {
      "cell_type": "code",
      "metadata": {
        "id": "5lo8EFQKeqWC"
      },
      "source": [
        "os.listdir(PATH)"
      ],
      "execution_count": null,
      "outputs": []
    },
    {
      "cell_type": "markdown",
      "metadata": {
        "id": "ZSG0S6ohUmku"
      },
      "source": [
        "> Hongos (2do Dataset)"
      ]
    },
    {
      "cell_type": "code",
      "metadata": {
        "id": "ZjvWXr2qUXtR"
      },
      "source": [
        "hoid = drive.ListFile({'q':\"title='MFijiensis.zip'\"}).GetList()[0]['id']\n",
        "ho = drive.CreateFile({'id': hoid})\n",
        "ho.GetContentFile('MFijiensis.zip')\n",
        "\n"
      ],
      "execution_count": null,
      "outputs": []
    },
    {
      "cell_type": "code",
      "metadata": {
        "id": "Xmu3-6BdUcSg"
      },
      "source": [
        "ho.keys()\n",
        "!unzip 'MFijiensis.zip'\n",
        "PATH = '/content/MFijiensis'\n",
        "#os.listdir(PATH)"
      ],
      "execution_count": null,
      "outputs": []
    },
    {
      "cell_type": "markdown",
      "metadata": {
        "id": "zamR_chjZm0x"
      },
      "source": [
        "> Plantas Saludables (3er Dataset)"
      ]
    },
    {
      "cell_type": "code",
      "metadata": {
        "id": "7fklMSXYZm06"
      },
      "source": [
        "salid = drive.ListFile({'q':\"title='Saludables.zip'\"}).GetList()[0]['id']\n",
        "sal = drive.CreateFile({'id': salid})\n",
        "sal.GetContentFile('Saludables.zip')\n"
      ],
      "execution_count": null,
      "outputs": []
    },
    {
      "cell_type": "code",
      "metadata": {
        "id": "xh0jjYItZm06"
      },
      "source": [
        "sal.keys()\n",
        "!unzip 'Saludables.zip'\n",
        "PATH = '/content/Saludables'\n",
        "#os.listdir(PATH)"
      ],
      "execution_count": null,
      "outputs": []
    },
    {
      "cell_type": "code",
      "source": [
        ""
      ],
      "metadata": {
        "id": "S76ljD5U24Hu"
      },
      "execution_count": null,
      "outputs": []
    },
    {
      "cell_type": "code",
      "source": [
        ""
      ],
      "metadata": {
        "id": "PmXAInG93n6e"
      },
      "execution_count": null,
      "outputs": []
    },
    {
      "cell_type": "markdown",
      "metadata": {
        "id": "4jHed0rhdyjh"
      },
      "source": [
        "## **3:Preprocesamiento de las Imágenes**"
      ]
    },
    {
      "cell_type": "markdown",
      "metadata": {
        "id": "2XySzGOEUZpJ"
      },
      "source": [
        ""
      ]
    },
    {
      "cell_type": "code",
      "metadata": {
        "scrolled": true,
        "colab": {
          "base_uri": "https://localhost:8080/"
        },
        "id": "dNJeuFrouaWz",
        "outputId": "0b688793-1490-4b69-ce97-3a171e031ff3"
      },
      "source": [
        "def Img_preprocessing(n):\n",
        "    \n",
        "    #1: Convertir de rgb a escala de grises\n",
        "    gray_scale=cv2.cvtColor(n, cv2.COLOR_BGR2GRAY )\n",
        "    \n",
        "    \n",
        "    #2: Ajustar la imagen\n",
        "    img_size=200\n",
        "    resized_img=cv2.resize(gray_scale,(img_size,img_size)) \n",
        "    \n",
        "    #3: Ecualización de histograma para mejorar el contraste de la imagen\n",
        "    equ = cv2.equalizeHist(resized_img)\n",
        "    \n",
        "    \n",
        "    #4: remover ruido: utilizando desenfoque gaussiano, para suavizar la imagen\n",
        "    blur=cv2.medianBlur(equ,5)\n",
        "    \n",
        "    #5: Segmentacion de imagen para detectar bordes\n",
        "  \n",
        "    grad_x = cv2.Sobel(blur, cv2.CV_16S, 1, 0, ksize=3, scale=1, delta=0, borderType=cv2.BORDER_DEFAULT)\n",
        "    grad_y = cv2.Sobel(blur, cv2.CV_16S, 0, 1, ksize=3, scale=1, delta=0, borderType=cv2.BORDER_DEFAULT)\n",
        "    abs_grad_x = cv2.convertScaleAbs(grad_x)\n",
        "    abs_grad_y = cv2.convertScaleAbs(grad_y)\n",
        "    edges = cv2.addWeighted(abs_grad_x, 0.5, abs_grad_y, 0.5, 0)\n",
        "    \n",
        "    clean_data =edges\n",
        "    return clean_data\n",
        "\n",
        "\n",
        "\n",
        "dir1= '/content'\n",
        "catg=['Bacterias', 'MFijiensis', 'Saludables']\n",
        "\n",
        "img_cube=[]\n",
        "image_size=800\n",
        "\n",
        "for i in catg: #Toma las carpetas definidas en ctg\n",
        "    path=os.path.join(dir1,i)\n",
        "    label=catg.index(i)\n",
        "    for j in os.listdir(path): #toma el path actual de cada imagen\n",
        "        img_arr=cv2.imread(os.path.join(path,j)) #convierte la imagen rgb a escala de grises\n",
        "        final_data=Img_preprocessing(img_arr)\n",
        "        img_cube.append([final_data,label])\n",
        "print(\"Tamaño del dataset: \",len(img_cube))\n",
        "print(\"Whole image data in array format:\\n\",img_cube[10])"
      ],
      "execution_count": null,
      "outputs": [
        {
          "output_type": "stream",
          "name": "stdout",
          "text": [
            "Tamaño del dataset:  2302\n",
            "Whole image data in array format:\n",
            " [array([[0, 0, 0, ..., 0, 0, 0],\n",
            "       [0, 0, 0, ..., 0, 0, 0],\n",
            "       [0, 0, 0, ..., 0, 0, 0],\n",
            "       ...,\n",
            "       [0, 0, 0, ..., 0, 0, 0],\n",
            "       [0, 0, 0, ..., 0, 0, 0],\n",
            "       [0, 0, 0, ..., 0, 0, 0]], dtype=uint8), 0]\n"
          ]
        }
      ]
    },
    {
      "cell_type": "code",
      "metadata": {
        "scrolled": false,
        "id": "AzdYZG2AuaW2"
      },
      "source": [
        ""
      ],
      "execution_count": null,
      "outputs": []
    },
    {
      "cell_type": "code",
      "metadata": {
        "colab": {
          "base_uri": "https://localhost:8080/",
          "height": 286
        },
        "id": "-od38RHfuaW3",
        "outputId": "de9ac5fe-9e2a-44d2-c952-f5eb7451f025"
      },
      "source": [
        "plt.imshow(img_cube[3][0],cmap='gray')\n",
        "img_cube[3][1]"
      ],
      "execution_count": null,
      "outputs": [
        {
          "output_type": "execute_result",
          "data": {
            "text/plain": [
              "0"
            ]
          },
          "metadata": {},
          "execution_count": 13
        },
        {
          "output_type": "display_data",
          "data": {
            "image/png": "[encoded data removed]",
            "text/plain": [
              "<Figure size 432x288 with 1 Axes>"
            ]
          },
          "metadata": {
            "needs_background": "light"
          }
        }
      ]
    },
    {
      "cell_type": "code",
      "metadata": {
        "colab": {
          "base_uri": "https://localhost:8080/",
          "height": 286
        },
        "id": "rL9GXhGPuaW3",
        "outputId": "70f074b0-8ca1-4752-f49d-6224a9b7f9ad"
      },
      "source": [
        "plt.imshow(img_cube[350][0],cmap='gray')\n",
        "img_cube[350][1]"
      ],
      "execution_count": null,
      "outputs": [
        {
          "output_type": "execute_result",
          "data": {
            "text/plain": [
              "0"
            ]
          },
          "metadata": {},
          "execution_count": 18
        },
        {
          "output_type": "display_data",
          "data": {
            "image/png": "[encoded data removed]",
            "text/plain": [
              "<Figure size 432x288 with 1 Axes>"
            ]
          },
          "metadata": {
            "needs_background": "light"
          }
        }
      ]
    },
    {
      "cell_type": "code",
      "metadata": {
        "colab": {
          "base_uri": "https://localhost:8080/"
        },
        "id": "y7oBBGDmuaW4",
        "outputId": "8b3e00b6-f31e-4b2f-9c91-e46928bc20f8"
      },
      "source": [
        "img_cube[350][0].shape"
      ],
      "execution_count": null,
      "outputs": [
        {
          "output_type": "execute_result",
          "data": {
            "text/plain": [
              "(200, 200)"
            ]
          },
          "metadata": {},
          "execution_count": 19
        }
      ]
    },
    {
      "cell_type": "code",
      "metadata": {
        "colab": {
          "base_uri": "https://localhost:8080/",
          "height": 286
        },
        "id": "cQgJ3flPuaW4",
        "outputId": "6874f427-be53-4f88-ebf0-77846bd522d9"
      },
      "source": [
        "plt.imshow(img_cube[500][0],cmap='gray')\n",
        "img_cube[500][1]"
      ],
      "execution_count": null,
      "outputs": [
        {
          "output_type": "execute_result",
          "data": {
            "text/plain": [
              "0"
            ]
          },
          "metadata": {},
          "execution_count": 14
        },
        {
          "output_type": "display_data",
          "data": {
            "image/png": "[encoded data removed]",
            "text/plain": [
              "<Figure size 432x288 with 1 Axes>"
            ]
          },
          "metadata": {
            "needs_background": "light"
          }
        }
      ]
    },
    {
      "cell_type": "code",
      "metadata": {
        "scrolled": true,
        "colab": {
          "base_uri": "https://localhost:8080/"
        },
        "id": "eYxU8w2YuaW5",
        "outputId": "c24290ee-de3c-467e-fec3-79032aa7076f"
      },
      "source": [
        "\n",
        "random.shuffle(img_cube)\n",
        "\n",
        "for i in img_cube[:10]:\n",
        "    print(i[1])\n",
        "\n"
      ],
      "execution_count": null,
      "outputs": [
        {
          "output_type": "stream",
          "name": "stdout",
          "text": [
            "0\n",
            "0\n",
            "2\n",
            "2\n",
            "0\n",
            "2\n",
            "1\n",
            "2\n",
            "0\n",
            "2\n"
          ]
        }
      ]
    },
    {
      "cell_type": "markdown",
      "metadata": {
        "id": "bCCkZTA4uaW5"
      },
      "source": [
        "# 3.Implementación del Clasificador"
      ]
    },
    {
      "cell_type": "code",
      "metadata": {
        "colab": {
          "base_uri": "https://localhost:8080/"
        },
        "id": "f-GuAvpluaW6",
        "outputId": "b99aedc3-1cba-416e-b4fc-990d87f0cb4f"
      },
      "source": [
        "from sklearn.svm import SVC\n",
        "\n",
        "feature=[]\n",
        "target=[]\n",
        "for i in img_cube:\n",
        "    flat=i[0].flatten()\n",
        "    feature.append(flat)\n",
        "for i in img_cube:\n",
        "    target.append(i[1])\n",
        "    \n",
        "len(feature),len(target)\n",
        "\n",
        "x_train,x_test,y_train,y_test=train_test_split(feature,target,test_size=0.25,random_state=42)\n",
        "\n",
        "clf1=SVC().fit(x_train,y_train)\n",
        "y_pred=clf1.predict(x_test)\n",
        "\n",
        "print(\"*-*\"*100)\n",
        "print(accuracy_score(y_test,y_pred)*100)\n",
        "print(\"*-*\"*100)\n",
        "\n",
        "feature[10]"
      ],
      "execution_count": null,
      "outputs": [
        {
          "output_type": "stream",
          "name": "stdout",
          "text": [
            "*-**-**-**-**-**-**-**-**-**-**-**-**-**-**-**-**-**-**-**-**-**-**-**-**-**-**-**-**-**-**-**-**-**-**-**-**-**-**-**-**-**-**-**-**-**-**-**-**-**-**-**-**-**-**-**-**-**-**-**-**-**-**-**-**-**-**-**-**-**-**-**-**-**-**-**-**-**-**-**-**-**-**-**-**-**-**-**-**-**-**-**-**-**-**-**-**-**-**-**-*\n",
            "69.09722222222221\n",
            "*-**-**-**-**-**-**-**-**-**-**-**-**-**-**-**-**-**-**-**-**-**-**-**-**-**-**-**-**-**-**-**-**-**-**-**-**-**-**-**-**-**-**-**-**-**-**-**-**-**-**-**-**-**-**-**-**-**-**-**-**-**-**-**-**-**-**-**-**-**-**-**-**-**-**-**-**-**-**-**-**-**-**-**-**-**-**-**-**-**-**-**-**-**-**-**-**-**-**-**-*\n"
          ]
        },
        {
          "output_type": "execute_result",
          "data": {
            "text/plain": [
              "array([0, 0, 0, ..., 0, 0, 0], dtype=uint8)"
            ]
          },
          "metadata": {},
          "execution_count": 16
        }
      ]
    },
    {
      "cell_type": "code",
      "metadata": {
        "id": "14Budizyb-uE"
      },
      "source": [
        ""
      ],
      "execution_count": null,
      "outputs": []
    },
    {
      "cell_type": "markdown",
      "metadata": {
        "id": "4gVz8u60uaW6"
      },
      "source": [
        "## Matriz de Evaluación\n"
      ]
    },
    {
      "cell_type": "code",
      "metadata": {
        "scrolled": false,
        "colab": {
          "base_uri": "https://localhost:8080/",
          "height": 455
        },
        "id": "p2vUGWzAuaW6",
        "outputId": "8a2d62c5-7a3a-4c24-a7c5-dc2ed067f44a"
      },
      "source": [
        "labels={0:'FOC',1:'MFIJ',2:'Saludable', 3:'Bac'}\n",
        "plt.title('Matriz de confusión del clasificador')\n",
        "sns.heatmap(confusion_matrix(y_test,y_pred,),cmap=\"PiYG\", xticklabels=['FOC', 'MFIJ','Saludable'],yticklabels=['FOC', 'MFIJ','Saludable'])\n",
        "\n",
        "confusion_matrix(y_test,y_pred)\n",
        "from sklearn.metrics import classification_report\n",
        "k=classification_report(y_test,y_pred,target_names=['FOC', 'MFIJ','Saludable'])\n",
        "print(k)"
      ],
      "execution_count": null,
      "outputs": [
        {
          "output_type": "stream",
          "name": "stdout",
          "text": [
            "              precision    recall  f1-score   support\n",
            "\n",
            "         FOC       0.59      0.73      0.65       218\n",
            "        MFIJ       0.87      0.58      0.69       151\n",
            "   Saludable       0.74      0.73      0.74       207\n",
            "\n",
            "    accuracy                           0.69       576\n",
            "   macro avg       0.73      0.68      0.69       576\n",
            "weighted avg       0.72      0.69      0.69       576\n",
            "\n"
          ]
        },
        {
          "output_type": "display_data",
          "data": {
            "image/png": "[encoded data removed]",
            "text/plain": [
              "<Figure size 432x288 with 2 Axes>"
            ]
          },
          "metadata": {
            "needs_background": "light"
          }
        }
      ]
    },
    {
      "cell_type": "markdown",
      "metadata": {
        "id": "3wPQMhhruaW7"
      },
      "source": [
        "# Comparar fiabilidad sin preprocesamiento de imágenes\n",
        "\n",
        "\n"
      ]
    },
    {
      "cell_type": "code",
      "metadata": {
        "id": "KHT0Tk0BuaW7"
      },
      "source": [
        "from sklearn.svm import SVC"
      ],
      "execution_count": null,
      "outputs": []
    },
    {
      "cell_type": "code",
      "metadata": {
        "id": "azQtBJhxuaW7",
        "colab": {
          "base_uri": "https://localhost:8080/"
        },
        "outputId": "a355409c-0933-4a02-f9ac-7f208892fbc1"
      },
      "source": [
        "dir2=\"/content\"\n",
        "catg=['Bacterias','MFijiensis','Saludables']\n",
        "\n",
        "img_cube2=[]\n",
        "image_size=500\n",
        "\n",
        "for i in catg:\n",
        "    path=os.path.join(dir2,i)\n",
        "    label=catg.index(i)\n",
        "    for j in os.listdir(path): \n",
        "        img_arr=cv2.imread(os.path.join(path,j))\n",
        "        gray_scale=cv2.cvtColor(img_arr, cv2.COLOR_BGR2GRAY )\n",
        "        resized_img=cv2.resize(gray_scale,(200,200))\n",
        "        img_cube2.append([resized_img,label])\n",
        "\n",
        "random.shuffle(img_cube2)\n",
        "\n",
        "feature2=[]\n",
        "target2=[]\n",
        "for i in img_cube2:\n",
        "    flat=i[0].flatten()\n",
        "    feature2.append(flat)\n",
        "for i in img_cube2:\n",
        "    target2.append(i[1])\n",
        "    \n",
        "#len(feature2),len(target2)\n",
        "\n",
        "x_train2,x_test2,y_train2,y_test2=train_test_split(feature2,target2,test_size=0.25,random_state=42)\n",
        "\n",
        "clf1=SVC().fit(x_train2,y_train2)\n",
        "y_pred2=clf1.predict(x_test2)\n",
        "\n",
        "print(\"*-*\"*100)\n",
        "print(accuracy_score(y_test2,y_pred2)*100)\n",
        "print(\"*-*\"*100)\n",
        "\n",
        "feature[10]"
      ],
      "execution_count": null,
      "outputs": [
        {
          "output_type": "stream",
          "name": "stdout",
          "text": [
            "*-**-**-**-**-**-**-**-**-**-**-**-**-**-**-**-**-**-**-**-**-**-**-**-**-**-**-**-**-**-**-**-**-**-**-**-**-**-**-**-**-**-**-**-**-**-**-**-**-**-**-**-**-**-**-**-**-**-**-**-**-**-**-**-**-**-**-**-**-**-**-**-**-**-**-**-**-**-**-**-**-**-**-**-**-**-**-**-**-**-**-**-**-**-**-**-**-**-**-**-*\n",
            "68.22916666666666\n",
            "*-**-**-**-**-**-**-**-**-**-**-**-**-**-**-**-**-**-**-**-**-**-**-**-**-**-**-**-**-**-**-**-**-**-**-**-**-**-**-**-**-**-**-**-**-**-**-**-**-**-**-**-**-**-**-**-**-**-**-**-**-**-**-**-**-**-**-**-**-**-**-**-**-**-**-**-**-**-**-**-**-**-**-**-**-**-**-**-**-**-**-**-**-**-**-**-**-**-**-**-*\n"
          ]
        },
        {
          "output_type": "execute_result",
          "data": {
            "text/plain": [
              "array([ 0, 16, 16, ...,  1,  1,  0], dtype=uint8)"
            ]
          },
          "metadata": {},
          "execution_count": 25
        }
      ]
    },
    {
      "cell_type": "markdown",
      "metadata": {
        "id": "iy_IbkGauaW8"
      },
      "source": [
        "# Comparar fiabilidad con imágenes a Color"
      ]
    },
    {
      "cell_type": "code",
      "metadata": {
        "id": "v2LW-JqnuaW8",
        "colab": {
          "base_uri": "https://localhost:8080/"
        },
        "outputId": "8f6b3b1a-d41a-45bf-cded-a187d5f957f2"
      },
      "source": [
        "dir2=\"/content\"\n",
        "catg=['Bacterias','MFijiensis','Saludables']\n",
        "\n",
        "img_cube2=[]\n",
        "image_size=500\n",
        "\n",
        "for i in catg: \n",
        "    path=os.path.join(dir2,i)\n",
        "    label=catg.index(i)\n",
        "    for j in os.listdir(path): \n",
        "        img_arr=cv2.imread(os.path.join(path,j))\n",
        "        #gray_scale=cv2.cvtColor(img_arr, cv2.COLOR_BGR2GRAY )\n",
        "        resized_img=cv2.resize(img_arr,(200,200))\n",
        "        img_cube2.append([resized_img,label])\n",
        "\n",
        "random.shuffle(img_cube2)\n",
        "\n",
        "feature2=[]\n",
        "target2=[]\n",
        "for i in img_cube2:\n",
        "    flat=i[0].flatten()\n",
        "    feature2.append(flat)\n",
        "for i in img_cube2:\n",
        "    target2.append(i[1])\n",
        "    \n",
        "#len(feature2),len(target2)\n",
        "feature2 = np.array(feature2)/ 255.0\n",
        "\n",
        "x_train2,x_test2,y_train2,y_test2=train_test_split(feature2,target2,test_size=0.25,random_state=42)\n",
        "\n",
        "clf1=SVC().fit(x_train2,y_train2)\n",
        "y_pred2=clf1.predict(x_test2)\n",
        "\n",
        "print(\"*-*\"*100)\n",
        "print(accuracy_score(y_test2,y_pred2)*100)\n",
        "print(\"*-*\"*100)\n"
      ],
      "execution_count": null,
      "outputs": [
        {
          "output_type": "stream",
          "name": "stdout",
          "text": [
            "*-**-**-**-**-**-**-**-**-**-**-**-**-**-**-**-**-**-**-**-**-**-**-**-**-**-**-**-**-**-**-**-**-**-**-**-**-**-**-**-**-**-**-**-**-**-**-**-**-**-**-**-**-**-**-**-**-**-**-**-**-**-**-**-**-**-**-**-**-**-**-**-**-**-**-**-**-**-**-**-**-**-**-**-**-**-**-**-**-**-**-**-**-**-**-**-**-**-**-**-*\n",
            "75.0\n",
            "*-**-**-**-**-**-**-**-**-**-**-**-**-**-**-**-**-**-**-**-**-**-**-**-**-**-**-**-**-**-**-**-**-**-**-**-**-**-**-**-**-**-**-**-**-**-**-**-**-**-**-**-**-**-**-**-**-**-**-**-**-**-**-**-**-**-**-**-**-**-**-**-**-**-**-**-**-**-**-**-**-**-**-**-**-**-**-**-**-**-**-**-**-**-**-**-**-**-**-**-*\n"
          ]
        }
      ]
    },
    {
      "cell_type": "code",
      "metadata": {
        "id": "Gs3vf2ZNuaW8",
        "colab": {
          "base_uri": "https://localhost:8080/"
        },
        "outputId": "db741d03-dfdb-4fc9-affb-d3b7a06cc215"
      },
      "source": [
        "np.asarray(x_train).shape"
      ],
      "execution_count": null,
      "outputs": [
        {
          "output_type": "execute_result",
          "data": {
            "text/plain": [
              "(1726, 40000)"
            ]
          },
          "metadata": {},
          "execution_count": 27
        }
      ]
    },
    {
      "cell_type": "markdown",
      "metadata": {
        "id": "e70Bgl-5uaW9"
      },
      "source": [
        "# Data augmentation"
      ]
    },
    {
      "cell_type": "code",
      "metadata": {
        "scrolled": true,
        "id": "k4uhmchIuaW9",
        "colab": {
          "base_uri": "https://localhost:8080/",
          "height": 381
        },
        "outputId": "e2691e58-cbd4-43a1-b791-fc9663b01912"
      },
      "source": [
        "data_aug=ImageDataGenerator(  rotation_range=40,\n",
        "                              width_shift_range=0.2,\n",
        "                              height_shift_range=0.2,\n",
        "                              channel_shift_range=0.2,\n",
        "                              zoom_range=0.2,\n",
        "                              fill_mode=\"nearest\",\n",
        "                              horizontal_flip=True,\n",
        "                              vertical_flip=True\n",
        "                             )         \n",
        "s=data_aug.flow(x_train, y_train,batch_size = 32)\n",
        "s[0][0][0]"
      ],
      "execution_count": null,
      "outputs": [
        {
          "output_type": "error",
          "ename": "ValueError",
          "evalue": "ignored",
          "traceback": [
            "\u001b[0;31m---------------------------------------------------------------------------\u001b[0m",
            "\u001b[0;31mValueError\u001b[0m                                Traceback (most recent call last)",
            "\u001b[0;32m<ipython-input-28-f08c443e9648>\u001b[0m in \u001b[0;36m<module>\u001b[0;34m()\u001b[0m\n\u001b[1;32m      8\u001b[0m                               \u001b[0mvertical_flip\u001b[0m\u001b[0;34m=\u001b[0m\u001b[0;32mTrue\u001b[0m\u001b[0;34m\u001b[0m\u001b[0;34m\u001b[0m\u001b[0m\n\u001b[1;32m      9\u001b[0m                              )         \n\u001b[0;32m---> 10\u001b[0;31m \u001b[0ms\u001b[0m\u001b[0;34m=\u001b[0m\u001b[0mdata_aug\u001b[0m\u001b[0;34m.\u001b[0m\u001b[0mflow\u001b[0m\u001b[0;34m(\u001b[0m\u001b[0mx_train\u001b[0m\u001b[0;34m,\u001b[0m \u001b[0my_train\u001b[0m\u001b[0;34m,\u001b[0m\u001b[0mbatch_size\u001b[0m \u001b[0;34m=\u001b[0m \u001b[0;36m32\u001b[0m\u001b[0;34m)\u001b[0m\u001b[0;34m\u001b[0m\u001b[0;34m\u001b[0m\u001b[0m\n\u001b[0m\u001b[1;32m     11\u001b[0m \u001b[0ms\u001b[0m\u001b[0;34m[\u001b[0m\u001b[0;36m0\u001b[0m\u001b[0;34m]\u001b[0m\u001b[0;34m[\u001b[0m\u001b[0;36m0\u001b[0m\u001b[0;34m]\u001b[0m\u001b[0;34m[\u001b[0m\u001b[0;36m0\u001b[0m\u001b[0;34m]\u001b[0m\u001b[0;34m\u001b[0m\u001b[0;34m\u001b[0m\u001b[0m\n",
            "\u001b[0;32m/usr/local/lib/python3.7/dist-packages/keras/preprocessing/image.py\u001b[0m in \u001b[0;36mflow\u001b[0;34m(self, x, y, batch_size, shuffle, sample_weight, seed, save_to_dir, save_prefix, save_format, subset)\u001b[0m\n\u001b[1;32m    894\u001b[0m         \u001b[0msave_prefix\u001b[0m\u001b[0;34m=\u001b[0m\u001b[0msave_prefix\u001b[0m\u001b[0;34m,\u001b[0m\u001b[0;34m\u001b[0m\u001b[0;34m\u001b[0m\u001b[0m\n\u001b[1;32m    895\u001b[0m         \u001b[0msave_format\u001b[0m\u001b[0;34m=\u001b[0m\u001b[0msave_format\u001b[0m\u001b[0;34m,\u001b[0m\u001b[0;34m\u001b[0m\u001b[0;34m\u001b[0m\u001b[0m\n\u001b[0;32m--> 896\u001b[0;31m         subset=subset)\n\u001b[0m\u001b[1;32m    897\u001b[0m \u001b[0;34m\u001b[0m\u001b[0m\n\u001b[1;32m    898\u001b[0m   def flow_from_directory(self,\n",
            "\u001b[0;32m/usr/local/lib/python3.7/dist-packages/keras/preprocessing/image.py\u001b[0m in \u001b[0;36m__init__\u001b[0;34m(self, x, y, image_data_generator, batch_size, shuffle, sample_weight, seed, data_format, save_to_dir, save_prefix, save_format, subset, dtype)\u001b[0m\n\u001b[1;32m    472\u001b[0m         \u001b[0msave_format\u001b[0m\u001b[0;34m=\u001b[0m\u001b[0msave_format\u001b[0m\u001b[0;34m,\u001b[0m\u001b[0;34m\u001b[0m\u001b[0;34m\u001b[0m\u001b[0m\n\u001b[1;32m    473\u001b[0m         \u001b[0msubset\u001b[0m\u001b[0;34m=\u001b[0m\u001b[0msubset\u001b[0m\u001b[0;34m,\u001b[0m\u001b[0;34m\u001b[0m\u001b[0;34m\u001b[0m\u001b[0m\n\u001b[0;32m--> 474\u001b[0;31m         **kwargs)\n\u001b[0m\u001b[1;32m    475\u001b[0m \u001b[0;34m\u001b[0m\u001b[0m\n\u001b[1;32m    476\u001b[0m \u001b[0;34m\u001b[0m\u001b[0m\n",
            "\u001b[0;32m/usr/local/lib/python3.7/dist-packages/keras_preprocessing/image/numpy_array_iterator.py\u001b[0m in \u001b[0;36m__init__\u001b[0;34m(self, x, y, image_data_generator, batch_size, shuffle, sample_weight, seed, data_format, save_to_dir, save_prefix, save_format, subset, dtype)\u001b[0m\n\u001b[1;32m     87\u001b[0m                              \u001b[0;34m'should have the same length. '\u001b[0m\u001b[0;34m\u001b[0m\u001b[0;34m\u001b[0m\u001b[0m\n\u001b[1;32m     88\u001b[0m                              \u001b[0;34m'Found: x.shape = %s, y.shape = %s'\u001b[0m \u001b[0;34m%\u001b[0m\u001b[0;34m\u001b[0m\u001b[0;34m\u001b[0m\u001b[0m\n\u001b[0;32m---> 89\u001b[0;31m                              (np.asarray(x).shape, np.asarray(y).shape))\n\u001b[0m\u001b[1;32m     90\u001b[0m         \u001b[0;32mif\u001b[0m \u001b[0msample_weight\u001b[0m \u001b[0;32mis\u001b[0m \u001b[0;32mnot\u001b[0m \u001b[0;32mNone\u001b[0m \u001b[0;32mand\u001b[0m \u001b[0mlen\u001b[0m\u001b[0;34m(\u001b[0m\u001b[0mx\u001b[0m\u001b[0;34m)\u001b[0m \u001b[0;34m!=\u001b[0m \u001b[0mlen\u001b[0m\u001b[0;34m(\u001b[0m\u001b[0msample_weight\u001b[0m\u001b[0;34m)\u001b[0m\u001b[0;34m:\u001b[0m\u001b[0;34m\u001b[0m\u001b[0;34m\u001b[0m\u001b[0m\n\u001b[1;32m     91\u001b[0m             raise ValueError('`x` (images tensor) and `sample_weight` '\n",
            "\u001b[0;31mValueError\u001b[0m: `x` (images tensor) and `y` (labels) should have the same length. Found: x.shape = (40000,), y.shape = (1726,)"
          ]
        }
      ]
    },
    {
      "cell_type": "code",
      "metadata": {
        "id": "VbFumT2SuaW9",
        "colab": {
          "base_uri": "https://localhost:8080/"
        },
        "outputId": "576c3df9-d1d9-46ef-a1ae-aa396dc0c7c5"
      },
      "source": [
        "# Encontrando imágenes de clase BAC\n",
        "i=0\n",
        "for batch in data_aug.flow_from_directory(directory=\"/content\",\n",
        "                                          classes=['Bacterias'],\n",
        "                                          batch_size=32,\n",
        "                                          target_size=(500,500),\n",
        "                                          color_mode='rgb',\n",
        "                                          save_to_dir='/content/Bacterias',\n",
        "                                          save_prefix='aug',\n",
        "                                          save_format='png'):\n",
        "    i += 1\n",
        "    if i>19: #for a particular class it creates 20 image for image in that class\n",
        "        break"
      ],
      "execution_count": null,
      "outputs": [
        {
          "output_type": "stream",
          "name": "stdout",
          "text": [
            "Found 903 images belonging to 1 classes.\n"
          ]
        }
      ]
    },
    {
      "cell_type": "code",
      "metadata": {
        "id": "MUVA70PVuaW-",
        "colab": {
          "base_uri": "https://localhost:8080/"
        },
        "outputId": "4e0fb421-2291-42f7-ba75-fed0433ac3b7"
      },
      "source": [
        "# Encontrando imágenes de clase MFIJ\n",
        "i=0\n",
        "for batch in data_aug.flow_from_directory(directory=\"/content\",\n",
        "                                          classes=['MFijiensis'],\n",
        "                                          batch_size=32,\n",
        "                                          target_size=(500,500),\n",
        "                                          color_mode='rgb',\n",
        "                                          save_to_dir='/content/MFijiensis',\n",
        "                                          save_prefix='aug',\n",
        "                                          save_format='png'):\n",
        "    i += 1\n",
        "    if i>19: #for a particular class it creates 20 image for image in that class\n",
        "        break"
      ],
      "execution_count": null,
      "outputs": [
        {
          "output_type": "stream",
          "name": "stdout",
          "text": [
            "Found 584 images belonging to 1 classes.\n"
          ]
        }
      ]
    },
    {
      "cell_type": "code",
      "metadata": {
        "id": "sj-NuIXEuaW-",
        "colab": {
          "base_uri": "https://localhost:8080/"
        },
        "outputId": "eb5189d8-54ab-476c-c929-78e3f8013f7c"
      },
      "source": [
        "#Encontrando imágenes saludables\n",
        "i=0\n",
        "for batch in data_aug.flow_from_directory(directory=\"/content\",\n",
        "                                          classes=['Saludables'],\n",
        "                                          batch_size=32,\n",
        "                                          target_size=(500,500),\n",
        "                                          color_mode='rgb',\n",
        "                                          save_to_dir='/content/Saludables',\n",
        "                                          save_prefix='aug',\n",
        "                                          save_format='png'):\n",
        "    i += 1\n",
        "    if i>19: #for a particular class it creates 20 image for image in that class\n",
        "        break"
      ],
      "execution_count": null,
      "outputs": [
        {
          "output_type": "stream",
          "name": "stdout",
          "text": [
            "Found 815 images belonging to 1 classes.\n"
          ]
        }
      ]
    },
    {
      "cell_type": "markdown",
      "metadata": {
        "id": "BM9CpTGquaW-"
      },
      "source": [
        "# Extaer los datos"
      ]
    },
    {
      "cell_type": "code",
      "metadata": {
        "scrolled": true,
        "id": "TXfWRliXuaW_",
        "colab": {
          "base_uri": "https://localhost:8080/"
        },
        "outputId": "4716c5ae-35c6-4432-e910-5e160aba14c6"
      },
      "source": [
        "dir1= '/content'\n",
        "catg=['Bacterias', 'MFijiensis', 'Saludables']\n",
        "\n",
        "img_cube3=[]\n",
        "#image_size=800\n",
        "\n",
        "for i in catg: \n",
        "    path=os.path.join(dir1,i)\n",
        "    label=catg.index(i)\n",
        "    for j in os.listdir(path): \n",
        "        img_arr=cv2.imread(os.path.join(path,j)) \n",
        "        #gray_img=cv2.cvtColor(img_arr, cv2.COLOR_BGR2GRAY )\n",
        "        final_data=cv2.resize(img_arr,(100,100))\n",
        "        img_cube3.append([final_data,label])\n",
        "        \n",
        "img_cube3[10]"
      ],
      "execution_count": null,
      "outputs": [
        {
          "output_type": "execute_result",
          "data": {
            "text/plain": [
              "[array([[[255, 255, 255],\n",
              "         [255, 255, 255],\n",
              "         [255, 255, 255],\n",
              "         ...,\n",
              "         [255, 255, 255],\n",
              "         [255, 255, 255],\n",
              "         [255, 255, 255]],\n",
              " \n",
              "        [[255, 255, 255],\n",
              "         [255, 255, 255],\n",
              "         [255, 255, 255],\n",
              "         ...,\n",
              "         [255, 255, 255],\n",
              "         [255, 255, 255],\n",
              "         [255, 255, 255]],\n",
              " \n",
              "        [[255, 255, 255],\n",
              "         [255, 255, 255],\n",
              "         [255, 255, 255],\n",
              "         ...,\n",
              "         [255, 255, 255],\n",
              "         [255, 255, 255],\n",
              "         [255, 255, 255]],\n",
              " \n",
              "        ...,\n",
              " \n",
              "        [[255, 255, 255],\n",
              "         [255, 255, 255],\n",
              "         [255, 255, 255],\n",
              "         ...,\n",
              "         [255, 255, 255],\n",
              "         [255, 255, 255],\n",
              "         [255, 255, 255]],\n",
              " \n",
              "        [[255, 255, 255],\n",
              "         [255, 255, 255],\n",
              "         [255, 255, 255],\n",
              "         ...,\n",
              "         [255, 255, 255],\n",
              "         [255, 255, 255],\n",
              "         [255, 255, 255]],\n",
              " \n",
              "        [[255, 255, 255],\n",
              "         [255, 255, 255],\n",
              "         [255, 255, 255],\n",
              "         ...,\n",
              "         [255, 255, 255],\n",
              "         [255, 255, 255],\n",
              "         [255, 255, 255]]], dtype=uint8), 0]"
            ]
          },
          "metadata": {},
          "execution_count": 32
        }
      ]
    },
    {
      "cell_type": "code",
      "metadata": {
        "scrolled": true,
        "id": "1iVahxJXuaW_",
        "colab": {
          "base_uri": "https://localhost:8080/",
          "height": 285
        },
        "outputId": "9ee310e4-6b34-4ea3-b301-d60b50e14c18"
      },
      "source": [
        "feat3=[]\n",
        "tar3=[]\n",
        "for i,j in img_cube3:\n",
        "    feat3.append(i)\n",
        "    tar3.append(j)\n",
        "x=np.array(feat3)\n",
        "x=x/255.0 \n",
        "y=np.array(tar3)\n",
        "plt.imshow(x[500],cmap='gray')"
      ],
      "execution_count": null,
      "outputs": [
        {
          "output_type": "execute_result",
          "data": {
            "text/plain": [
              "<matplotlib.image.AxesImage at 0x7f25e1bf8a10>"
            ]
          },
          "metadata": {},
          "execution_count": 33
        },
        {
          "output_type": "display_data",
          "data": {
            "image/png": "[encoded data removed]",
            "text/plain": [
              "<Figure size 432x288 with 1 Axes>"
            ]
          },
          "metadata": {
            "needs_background": "light"
          }
        }
      ]
    },
    {
      "cell_type": "code",
      "metadata": {
        "id": "6EJ7HNMfuaW_",
        "colab": {
          "base_uri": "https://localhost:8080/"
        },
        "outputId": "48d96d74-1ce5-410c-ce83-7fa14c555abd"
      },
      "source": [
        "x_train,x_test,y_train,y_test=train_test_split(x,y,random_state=0,test_size=0.30)\n",
        "x_train.shape"
      ],
      "execution_count": null,
      "outputs": [
        {
          "output_type": "execute_result",
          "data": {
            "text/plain": [
              "(2938, 100, 100, 3)"
            ]
          },
          "metadata": {},
          "execution_count": 34
        }
      ]
    },
    {
      "cell_type": "code",
      "metadata": {
        "id": "AEqPaxjJuaW_"
      },
      "source": [
        "#y_train=to_categorical(y_train, dtype =\"float64\")\n",
        "#y_test=to_categorical(y_test,  dtype =\"float64\")"
      ],
      "execution_count": null,
      "outputs": []
    },
    {
      "cell_type": "code",
      "metadata": {
        "id": "lcD4eBwAuaXA",
        "colab": {
          "base_uri": "https://localhost:8080/"
        },
        "outputId": "48456ed3-0a66-4745-f53b-2ff10a229eb5"
      },
      "source": [
        "y_test.shape,y_train.shape"
      ],
      "execution_count": null,
      "outputs": [
        {
          "output_type": "execute_result",
          "data": {
            "text/plain": [
              "((1260,), (2938,))"
            ]
          },
          "metadata": {},
          "execution_count": 35
        }
      ]
    },
    {
      "cell_type": "code",
      "metadata": {
        "id": "kmChNbomuaXA",
        "colab": {
          "base_uri": "https://localhost:8080/"
        },
        "outputId": "1a3dd1a5-9ba6-41cb-fbc0-3665b500b299"
      },
      "source": [
        "x_train.dtype,y_train.dtype"
      ],
      "execution_count": null,
      "outputs": [
        {
          "output_type": "execute_result",
          "data": {
            "text/plain": [
              "(dtype('float64'), dtype('int64'))"
            ]
          },
          "metadata": {},
          "execution_count": 36
        }
      ]
    },
    {
      "cell_type": "code",
      "metadata": {
        "id": "yAwb3uR5uaXB"
      },
      "source": [
        "#x_train2=x_train2.reshape(len(x_train2),200,200,1) #these two lines are not applicable for colored image we can directly fit those values\n",
        "#x_test2=x_test2.reshape(len(x_test2),200,200,1)"
      ],
      "execution_count": null,
      "outputs": []
    },
    {
      "cell_type": "markdown",
      "metadata": {
        "id": "SqNcc9I9uaXB"
      },
      "source": [
        "# Data augmentation for a single image"
      ]
    },
    {
      "cell_type": "code",
      "metadata": {
        "id": "GFS2LIfquaXB",
        "colab": {
          "base_uri": "https://localhost:8080/",
          "height": 235
        },
        "outputId": "31123961-cf9f-4c18-9911-4c1c52ac2e3c"
      },
      "source": [
        "# example of horizontal shift image augmentation\n",
        "from numpy import expand_dims\n",
        "\n",
        "# load the image\n",
        "img = load_img(\"/content/Saludables/25.png\")\n",
        "# convert to numpy array\n",
        "data = img_to_array(img)\n",
        "# expand dimension to one sample\n",
        "samples = expand_dims(data, 0)\n",
        "\n",
        "# prepare iterator\n",
        "it = data_aug.flow(samples, batch_size=9)\n",
        "# generate samples and plot\n",
        "plt.figure(figsize=(10,10))\n",
        "for i in range(9):\n",
        "    # define subplot\n",
        "    plt.subplot(330 + 1 + i)\n",
        "    # generate batch of images\n",
        "    batch = it.next()\n",
        "    # convert to unsigned integers for viewing\n",
        "    image = batch[0].astype('uint8')\n",
        "    # plot raw pixel data\n",
        "    plt.imshow(image)\n",
        "# show the figure\n",
        "plt.show()"
      ],
      "execution_count": null,
      "outputs": [
        {
          "output_type": "error",
          "ename": "NameError",
          "evalue": "ignored",
          "traceback": [
            "\u001b[0;31m---------------------------------------------------------------------------\u001b[0m",
            "\u001b[0;31mNameError\u001b[0m                                 Traceback (most recent call last)",
            "\u001b[0;32m<ipython-input-1-67b6f7250ea9>\u001b[0m in \u001b[0;36m<module>\u001b[0;34m()\u001b[0m\n\u001b[1;32m      3\u001b[0m \u001b[0;34m\u001b[0m\u001b[0m\n\u001b[1;32m      4\u001b[0m \u001b[0;31m# load the image\u001b[0m\u001b[0;34m\u001b[0m\u001b[0;34m\u001b[0m\u001b[0;34m\u001b[0m\u001b[0m\n\u001b[0;32m----> 5\u001b[0;31m \u001b[0mimg\u001b[0m \u001b[0;34m=\u001b[0m \u001b[0mload_img\u001b[0m\u001b[0;34m(\u001b[0m\u001b[0;34m\"/content/Saludables/25.png\"\u001b[0m\u001b[0;34m)\u001b[0m\u001b[0;34m\u001b[0m\u001b[0;34m\u001b[0m\u001b[0m\n\u001b[0m\u001b[1;32m      6\u001b[0m \u001b[0;31m# convert to numpy array\u001b[0m\u001b[0;34m\u001b[0m\u001b[0;34m\u001b[0m\u001b[0;34m\u001b[0m\u001b[0m\n\u001b[1;32m      7\u001b[0m \u001b[0mdata\u001b[0m \u001b[0;34m=\u001b[0m \u001b[0mimg_to_array\u001b[0m\u001b[0;34m(\u001b[0m\u001b[0mimg\u001b[0m\u001b[0;34m)\u001b[0m\u001b[0;34m\u001b[0m\u001b[0;34m\u001b[0m\u001b[0m\n",
            "\u001b[0;31mNameError\u001b[0m: name 'load_img' is not defined"
          ]
        }
      ]
    },
    {
      "cell_type": "markdown",
      "metadata": {
        "id": "QVyvcqX-uaXC"
      },
      "source": [
        "# Train Neural network model"
      ]
    },
    {
      "cell_type": "code",
      "metadata": {
        "scrolled": true,
        "id": "7sUWiXcGuaXC",
        "colab": {
          "base_uri": "https://localhost:8080/"
        },
        "outputId": "f3c78c84-782f-44b8-890d-82642dde45a5"
      },
      "source": [
        "cnn2=Sequential()\n",
        "\n",
        "#convolutional layer-1\n",
        "cnn2.add(Conv2D(32, kernel_size=(3, 3), activation='relu',  padding='same'))\n",
        "cnn2.add(MaxPooling2D(2,2))\n",
        "\n",
        "#convolutional layer-2\n",
        "cnn2.add(Conv2D(64, kernel_size=(3, 3), activation='relu',  padding='same'))\n",
        "cnn2.add(MaxPooling2D(2,2))\n",
        "\n",
        "#convolutional layer-3\n",
        "cnn2.add(Conv2D(128, kernel_size=(3, 3), activation='relu',  padding='same'))\n",
        "cnn2.add(MaxPooling2D(2,2))\n",
        "\n",
        "\n",
        "#convolutional layer-4\n",
        "cnn2.add(Conv2D(256, kernel_size=(3, 3), activation='relu',  padding='same'))\n",
        "cnn2.add(MaxPooling2D(2,2))\n",
        "\n",
        "\n",
        "#flatten layer\n",
        "cnn2.add(Flatten(input_shape=x_train.shape[1:] ))\n",
        "\n",
        "\n",
        "cnn2.add(Dense(256,activation='relu'))\n",
        "\n",
        "#densly connected layer\n",
        "cnn2.add(Dense(128,activation='relu'))\n",
        "\n",
        "#output layer\n",
        "cnn2.add(Dense(3,activation='softmax'))\n",
        "\n",
        "\n",
        "cnn2.compile(optimizer='Adagrad',\n",
        "              loss=tf.keras.losses.SparseCategoricalCrossentropy(from_logits=False),\n",
        "              metrics=['accuracy'])\n",
        "#logit=true when we not use any normalization for last layer that means if we don't apply any act. fun then keep logit=true0----\n",
        "#with RMSPROP got 74-72%\n",
        "#SGD found 57%\n",
        "\n",
        "\n",
        "\n",
        "history2=cnn2.fit(  x_train,\n",
        "          y_train,\n",
        "          verbose=1,\n",
        "          epochs=200,  #20\n",
        "          batch_size=32,  #15\n",
        "          validation_data=(x_test,y_test) )"
      ],
      "execution_count": null,
      "outputs": [
        {
          "output_type": "stream",
          "name": "stdout",
          "text": [
            "Epoch 1/200\n",
            "92/92 [==============================] - 18s 45ms/step - loss: 1.0818 - accuracy: 0.3819 - val_loss: 1.0725 - val_accuracy: 0.3468\n",
            "Epoch 2/200\n",
            "92/92 [==============================] - 3s 35ms/step - loss: 1.0613 - accuracy: 0.4238 - val_loss: 1.0506 - val_accuracy: 0.4048\n",
            "Epoch 3/200\n",
            "92/92 [==============================] - 3s 35ms/step - loss: 1.0315 - accuracy: 0.4894 - val_loss: 1.0191 - val_accuracy: 0.5659\n",
            "Epoch 4/200\n",
            "92/92 [==============================] - 3s 35ms/step - loss: 0.9929 - accuracy: 0.5674 - val_loss: 0.9727 - val_accuracy: 0.6040\n",
            "Epoch 5/200\n",
            "92/92 [==============================] - 3s 35ms/step - loss: 0.9401 - accuracy: 0.6072 - val_loss: 0.9311 - val_accuracy: 0.6143\n",
            "Epoch 6/200\n",
            "92/92 [==============================] - 3s 35ms/step - loss: 0.8966 - accuracy: 0.6181 - val_loss: 0.8926 - val_accuracy: 0.5984\n",
            "Epoch 7/200\n",
            "92/92 [==============================] - 3s 35ms/step - loss: 0.8606 - accuracy: 0.6205 - val_loss: 0.8692 - val_accuracy: 0.6135\n",
            "Epoch 8/200\n",
            "92/92 [==============================] - 3s 35ms/step - loss: 0.8378 - accuracy: 0.6406 - val_loss: 0.8813 - val_accuracy: 0.6111\n",
            "Epoch 9/200\n",
            "92/92 [==============================] - 3s 35ms/step - loss: 0.8259 - accuracy: 0.6416 - val_loss: 0.8246 - val_accuracy: 0.6381\n",
            "Epoch 10/200\n",
            "92/92 [==============================] - 3s 35ms/step - loss: 0.8011 - accuracy: 0.6695 - val_loss: 0.8495 - val_accuracy: 0.6056\n",
            "Epoch 11/200\n",
            "92/92 [==============================] - 3s 35ms/step - loss: 0.7935 - accuracy: 0.6685 - val_loss: 0.8152 - val_accuracy: 0.6492\n",
            "Epoch 12/200\n",
            "92/92 [==============================] - 3s 35ms/step - loss: 0.7770 - accuracy: 0.6763 - val_loss: 0.7948 - val_accuracy: 0.6548\n",
            "Epoch 13/200\n",
            "92/92 [==============================] - 3s 35ms/step - loss: 0.7617 - accuracy: 0.6811 - val_loss: 0.7902 - val_accuracy: 0.6571\n",
            "Epoch 14/200\n",
            "92/92 [==============================] - 3s 35ms/step - loss: 0.7484 - accuracy: 0.7035 - val_loss: 0.8815 - val_accuracy: 0.6175\n",
            "Epoch 15/200\n",
            "92/92 [==============================] - 3s 34ms/step - loss: 0.7367 - accuracy: 0.7025 - val_loss: 0.7734 - val_accuracy: 0.6722\n",
            "Epoch 16/200\n",
            "92/92 [==============================] - 3s 35ms/step - loss: 0.7230 - accuracy: 0.7073 - val_loss: 0.7357 - val_accuracy: 0.6786\n",
            "Epoch 17/200\n",
            "92/92 [==============================] - 3s 35ms/step - loss: 0.7065 - accuracy: 0.7144 - val_loss: 0.7177 - val_accuracy: 0.6976\n",
            "Epoch 18/200\n",
            "92/92 [==============================] - 3s 35ms/step - loss: 0.6964 - accuracy: 0.7178 - val_loss: 0.7038 - val_accuracy: 0.7056\n",
            "Epoch 19/200\n",
            "92/92 [==============================] - 3s 35ms/step - loss: 0.6898 - accuracy: 0.7189 - val_loss: 0.7086 - val_accuracy: 0.6944\n",
            "Epoch 20/200\n",
            "92/92 [==============================] - 3s 35ms/step - loss: 0.6751 - accuracy: 0.7314 - val_loss: 0.6900 - val_accuracy: 0.7048\n",
            "Epoch 21/200\n",
            "92/92 [==============================] - 3s 35ms/step - loss: 0.6638 - accuracy: 0.7291 - val_loss: 0.6793 - val_accuracy: 0.7175\n",
            "Epoch 22/200\n",
            "92/92 [==============================] - 3s 35ms/step - loss: 0.6618 - accuracy: 0.7311 - val_loss: 0.6722 - val_accuracy: 0.7167\n",
            "Epoch 23/200\n",
            "92/92 [==============================] - 3s 35ms/step - loss: 0.6461 - accuracy: 0.7359 - val_loss: 0.7845 - val_accuracy: 0.6754\n",
            "Epoch 24/200\n",
            "92/92 [==============================] - 3s 35ms/step - loss: 0.6433 - accuracy: 0.7338 - val_loss: 0.7265 - val_accuracy: 0.6849\n",
            "Epoch 25/200\n",
            "92/92 [==============================] - 3s 35ms/step - loss: 0.6372 - accuracy: 0.7355 - val_loss: 0.6554 - val_accuracy: 0.7175\n",
            "Epoch 26/200\n",
            "92/92 [==============================] - 3s 35ms/step - loss: 0.6234 - accuracy: 0.7430 - val_loss: 0.6699 - val_accuracy: 0.7135\n",
            "Epoch 27/200\n",
            "92/92 [==============================] - 3s 35ms/step - loss: 0.6251 - accuracy: 0.7440 - val_loss: 0.6602 - val_accuracy: 0.7302\n",
            "Epoch 28/200\n",
            "92/92 [==============================] - 3s 35ms/step - loss: 0.6222 - accuracy: 0.7468 - val_loss: 0.6588 - val_accuracy: 0.7230\n",
            "Epoch 29/200\n",
            "92/92 [==============================] - 3s 37ms/step - loss: 0.6143 - accuracy: 0.7495 - val_loss: 0.6424 - val_accuracy: 0.7198\n",
            "Epoch 30/200\n",
            "92/92 [==============================] - 3s 35ms/step - loss: 0.6062 - accuracy: 0.7464 - val_loss: 0.6999 - val_accuracy: 0.7048\n",
            "Epoch 31/200\n",
            "92/92 [==============================] - 3s 35ms/step - loss: 0.6015 - accuracy: 0.7471 - val_loss: 0.6352 - val_accuracy: 0.7365\n",
            "Epoch 32/200\n",
            "92/92 [==============================] - 3s 35ms/step - loss: 0.6035 - accuracy: 0.7457 - val_loss: 0.6629 - val_accuracy: 0.7238\n",
            "Epoch 33/200\n",
            "92/92 [==============================] - 3s 38ms/step - loss: 0.5978 - accuracy: 0.7478 - val_loss: 0.6257 - val_accuracy: 0.7397\n",
            "Epoch 34/200\n",
            "92/92 [==============================] - 3s 35ms/step - loss: 0.5925 - accuracy: 0.7543 - val_loss: 0.6229 - val_accuracy: 0.7373\n",
            "Epoch 35/200\n",
            "92/92 [==============================] - 3s 35ms/step - loss: 0.5869 - accuracy: 0.7560 - val_loss: 0.6123 - val_accuracy: 0.7421\n",
            "Epoch 36/200\n",
            "92/92 [==============================] - 3s 35ms/step - loss: 0.5788 - accuracy: 0.7624 - val_loss: 0.6364 - val_accuracy: 0.7317\n",
            "Epoch 37/200\n",
            "92/92 [==============================] - 3s 35ms/step - loss: 0.5791 - accuracy: 0.7583 - val_loss: 0.6095 - val_accuracy: 0.7500\n",
            "Epoch 38/200\n",
            "92/92 [==============================] - 3s 37ms/step - loss: 0.5730 - accuracy: 0.7594 - val_loss: 0.6012 - val_accuracy: 0.7421\n",
            "Epoch 39/200\n",
            "92/92 [==============================] - 3s 35ms/step - loss: 0.5686 - accuracy: 0.7651 - val_loss: 0.6133 - val_accuracy: 0.7365\n",
            "Epoch 40/200\n",
            "92/92 [==============================] - 3s 35ms/step - loss: 0.5624 - accuracy: 0.7651 - val_loss: 0.6047 - val_accuracy: 0.7500\n",
            "Epoch 41/200\n",
            "92/92 [==============================] - 3s 35ms/step - loss: 0.5609 - accuracy: 0.7672 - val_loss: 0.5955 - val_accuracy: 0.7397\n",
            "Epoch 42/200\n",
            "92/92 [==============================] - 3s 35ms/step - loss: 0.5561 - accuracy: 0.7743 - val_loss: 0.6006 - val_accuracy: 0.7460\n",
            "Epoch 43/200\n",
            "92/92 [==============================] - 3s 35ms/step - loss: 0.5550 - accuracy: 0.7709 - val_loss: 0.5916 - val_accuracy: 0.7587\n",
            "Epoch 44/200\n",
            "92/92 [==============================] - 3s 35ms/step - loss: 0.5462 - accuracy: 0.7720 - val_loss: 0.6262 - val_accuracy: 0.7167\n",
            "Epoch 45/200\n",
            "92/92 [==============================] - 3s 35ms/step - loss: 0.5439 - accuracy: 0.7781 - val_loss: 0.5807 - val_accuracy: 0.7476\n",
            "Epoch 46/200\n",
            "92/92 [==============================] - 3s 35ms/step - loss: 0.5398 - accuracy: 0.7794 - val_loss: 0.5891 - val_accuracy: 0.7452\n",
            "Epoch 47/200\n",
            "92/92 [==============================] - 3s 35ms/step - loss: 0.5379 - accuracy: 0.7788 - val_loss: 0.5810 - val_accuracy: 0.7468\n",
            "Epoch 48/200\n",
            "92/92 [==============================] - 3s 35ms/step - loss: 0.5309 - accuracy: 0.7828 - val_loss: 0.6098 - val_accuracy: 0.7357\n",
            "Epoch 49/200\n",
            "92/92 [==============================] - 3s 35ms/step - loss: 0.5331 - accuracy: 0.7771 - val_loss: 0.5834 - val_accuracy: 0.7460\n",
            "Epoch 50/200\n",
            "92/92 [==============================] - 3s 35ms/step - loss: 0.5311 - accuracy: 0.7839 - val_loss: 0.5833 - val_accuracy: 0.7468\n",
            "Epoch 51/200\n",
            "92/92 [==============================] - 3s 35ms/step - loss: 0.5216 - accuracy: 0.7876 - val_loss: 0.6406 - val_accuracy: 0.7278\n",
            "Epoch 52/200\n",
            "92/92 [==============================] - 3s 35ms/step - loss: 0.5183 - accuracy: 0.7835 - val_loss: 0.5891 - val_accuracy: 0.7500\n",
            "Epoch 53/200\n",
            "92/92 [==============================] - 3s 37ms/step - loss: 0.5134 - accuracy: 0.7832 - val_loss: 0.5987 - val_accuracy: 0.7532\n",
            "Epoch 54/200\n",
            "92/92 [==============================] - 3s 35ms/step - loss: 0.5140 - accuracy: 0.7859 - val_loss: 0.5602 - val_accuracy: 0.7548\n",
            "Epoch 55/200\n",
            "92/92 [==============================] - 3s 35ms/step - loss: 0.5086 - accuracy: 0.7862 - val_loss: 0.5547 - val_accuracy: 0.7579\n",
            "Epoch 56/200\n",
            "92/92 [==============================] - 3s 35ms/step - loss: 0.5086 - accuracy: 0.7862 - val_loss: 0.5552 - val_accuracy: 0.7579\n",
            "Epoch 57/200\n",
            "92/92 [==============================] - 3s 35ms/step - loss: 0.5000 - accuracy: 0.7958 - val_loss: 0.5746 - val_accuracy: 0.7579\n",
            "Epoch 58/200\n",
            "92/92 [==============================] - 3s 35ms/step - loss: 0.4971 - accuracy: 0.7917 - val_loss: 0.5778 - val_accuracy: 0.7460\n",
            "Epoch 59/200\n",
            "92/92 [==============================] - 3s 35ms/step - loss: 0.4904 - accuracy: 0.7975 - val_loss: 0.5534 - val_accuracy: 0.7635\n",
            "Epoch 60/200\n",
            "92/92 [==============================] - 3s 35ms/step - loss: 0.4916 - accuracy: 0.7910 - val_loss: 0.6185 - val_accuracy: 0.7373\n",
            "Epoch 61/200\n",
            "92/92 [==============================] - 3s 35ms/step - loss: 0.4881 - accuracy: 0.7937 - val_loss: 0.5766 - val_accuracy: 0.7516\n",
            "Epoch 62/200\n",
            "92/92 [==============================] - 3s 35ms/step - loss: 0.4852 - accuracy: 0.7978 - val_loss: 0.5389 - val_accuracy: 0.7659\n",
            "Epoch 63/200\n",
            "92/92 [==============================] - 3s 35ms/step - loss: 0.4841 - accuracy: 0.7948 - val_loss: 0.5506 - val_accuracy: 0.7603\n",
            "Epoch 64/200\n",
            "92/92 [==============================] - 3s 35ms/step - loss: 0.4739 - accuracy: 0.8077 - val_loss: 0.5457 - val_accuracy: 0.7651\n",
            "Epoch 65/200\n",
            "92/92 [==============================] - 3s 36ms/step - loss: 0.4748 - accuracy: 0.8043 - val_loss: 0.5478 - val_accuracy: 0.7643\n",
            "Epoch 66/200\n",
            "92/92 [==============================] - 3s 35ms/step - loss: 0.4713 - accuracy: 0.8039 - val_loss: 0.5470 - val_accuracy: 0.7627\n",
            "Epoch 67/200\n",
            "92/92 [==============================] - 3s 35ms/step - loss: 0.4723 - accuracy: 0.8019 - val_loss: 0.5410 - val_accuracy: 0.7619\n",
            "Epoch 68/200\n",
            "92/92 [==============================] - 3s 35ms/step - loss: 0.4697 - accuracy: 0.7982 - val_loss: 0.5274 - val_accuracy: 0.7611\n",
            "Epoch 69/200\n",
            "92/92 [==============================] - 3s 37ms/step - loss: 0.4658 - accuracy: 0.8077 - val_loss: 0.5282 - val_accuracy: 0.7619\n",
            "Epoch 70/200\n",
            "92/92 [==============================] - 3s 35ms/step - loss: 0.4627 - accuracy: 0.8080 - val_loss: 0.5449 - val_accuracy: 0.7603\n",
            "Epoch 71/200\n",
            "92/92 [==============================] - 3s 35ms/step - loss: 0.4534 - accuracy: 0.8145 - val_loss: 0.5183 - val_accuracy: 0.7762\n",
            "Epoch 72/200\n",
            "92/92 [==============================] - 3s 35ms/step - loss: 0.4541 - accuracy: 0.8050 - val_loss: 0.5158 - val_accuracy: 0.7754\n",
            "Epoch 73/200\n",
            "92/92 [==============================] - 3s 35ms/step - loss: 0.4492 - accuracy: 0.8152 - val_loss: 0.5209 - val_accuracy: 0.7810\n",
            "Epoch 74/200\n",
            "92/92 [==============================] - 3s 35ms/step - loss: 0.4489 - accuracy: 0.8210 - val_loss: 0.5181 - val_accuracy: 0.7667\n",
            "Epoch 75/200\n",
            "92/92 [==============================] - 3s 34ms/step - loss: 0.4457 - accuracy: 0.8108 - val_loss: 0.5187 - val_accuracy: 0.7786\n",
            "Epoch 76/200\n",
            "92/92 [==============================] - 3s 34ms/step - loss: 0.4405 - accuracy: 0.8186 - val_loss: 0.5177 - val_accuracy: 0.7754\n",
            "Epoch 77/200\n",
            "92/92 [==============================] - 3s 35ms/step - loss: 0.4455 - accuracy: 0.8118 - val_loss: 0.5214 - val_accuracy: 0.7778\n",
            "Epoch 78/200\n",
            "92/92 [==============================] - 3s 34ms/step - loss: 0.4377 - accuracy: 0.8165 - val_loss: 0.5362 - val_accuracy: 0.7643\n",
            "Epoch 79/200\n",
            "92/92 [==============================] - 3s 34ms/step - loss: 0.4330 - accuracy: 0.8196 - val_loss: 0.5046 - val_accuracy: 0.7778\n",
            "Epoch 80/200\n",
            "92/92 [==============================] - 3s 34ms/step - loss: 0.4329 - accuracy: 0.8169 - val_loss: 0.5045 - val_accuracy: 0.7794\n",
            "Epoch 81/200\n",
            "92/92 [==============================] - 3s 35ms/step - loss: 0.4279 - accuracy: 0.8233 - val_loss: 0.5322 - val_accuracy: 0.7690\n",
            "Epoch 82/200\n",
            "92/92 [==============================] - 3s 35ms/step - loss: 0.4304 - accuracy: 0.8199 - val_loss: 0.5001 - val_accuracy: 0.7762\n",
            "Epoch 83/200\n",
            "92/92 [==============================] - 3s 35ms/step - loss: 0.4280 - accuracy: 0.8220 - val_loss: 0.4927 - val_accuracy: 0.7857\n",
            "Epoch 84/200\n",
            "92/92 [==============================] - 3s 35ms/step - loss: 0.4170 - accuracy: 0.8312 - val_loss: 0.4970 - val_accuracy: 0.7865\n",
            "Epoch 85/200\n",
            "92/92 [==============================] - 3s 34ms/step - loss: 0.4162 - accuracy: 0.8308 - val_loss: 0.4931 - val_accuracy: 0.7929\n",
            "Epoch 86/200\n",
            "92/92 [==============================] - 3s 35ms/step - loss: 0.4179 - accuracy: 0.8288 - val_loss: 0.5395 - val_accuracy: 0.7690\n",
            "Epoch 87/200\n",
            "92/92 [==============================] - 3s 34ms/step - loss: 0.4150 - accuracy: 0.8319 - val_loss: 0.5045 - val_accuracy: 0.7770\n",
            "Epoch 88/200\n",
            "92/92 [==============================] - 3s 35ms/step - loss: 0.4071 - accuracy: 0.8315 - val_loss: 0.4950 - val_accuracy: 0.7889\n",
            "Epoch 89/200\n",
            "92/92 [==============================] - 3s 35ms/step - loss: 0.3993 - accuracy: 0.8417 - val_loss: 0.4939 - val_accuracy: 0.7873\n",
            "Epoch 90/200\n",
            "92/92 [==============================] - 3s 34ms/step - loss: 0.4045 - accuracy: 0.8363 - val_loss: 0.4981 - val_accuracy: 0.7865\n",
            "Epoch 91/200\n",
            "92/92 [==============================] - 3s 35ms/step - loss: 0.4026 - accuracy: 0.8390 - val_loss: 0.4771 - val_accuracy: 0.7968\n",
            "Epoch 92/200\n",
            "92/92 [==============================] - 3s 35ms/step - loss: 0.4013 - accuracy: 0.8366 - val_loss: 0.4794 - val_accuracy: 0.7913\n",
            "Epoch 93/200\n",
            "92/92 [==============================] - 3s 35ms/step - loss: 0.3952 - accuracy: 0.8417 - val_loss: 0.4755 - val_accuracy: 0.7968\n",
            "Epoch 94/200\n",
            "92/92 [==============================] - 3s 35ms/step - loss: 0.3922 - accuracy: 0.8356 - val_loss: 0.5005 - val_accuracy: 0.7810\n",
            "Epoch 95/200\n",
            "92/92 [==============================] - 3s 38ms/step - loss: 0.3950 - accuracy: 0.8363 - val_loss: 0.4767 - val_accuracy: 0.7913\n",
            "Epoch 96/200\n",
            "92/92 [==============================] - 3s 35ms/step - loss: 0.3860 - accuracy: 0.8342 - val_loss: 0.4808 - val_accuracy: 0.7929\n",
            "Epoch 97/200\n",
            "92/92 [==============================] - 3s 35ms/step - loss: 0.3886 - accuracy: 0.8400 - val_loss: 0.4762 - val_accuracy: 0.7952\n",
            "Epoch 98/200\n",
            "92/92 [==============================] - 3s 37ms/step - loss: 0.3868 - accuracy: 0.8414 - val_loss: 0.4649 - val_accuracy: 0.8032\n",
            "Epoch 99/200\n",
            "92/92 [==============================] - 3s 35ms/step - loss: 0.3800 - accuracy: 0.8428 - val_loss: 0.4622 - val_accuracy: 0.8016\n",
            "Epoch 100/200\n",
            "92/92 [==============================] - 3s 35ms/step - loss: 0.3748 - accuracy: 0.8550 - val_loss: 0.4767 - val_accuracy: 0.7968\n",
            "Epoch 101/200\n",
            "92/92 [==============================] - 3s 35ms/step - loss: 0.3755 - accuracy: 0.8465 - val_loss: 0.4819 - val_accuracy: 0.7968\n",
            "Epoch 102/200\n",
            "92/92 [==============================] - 3s 36ms/step - loss: 0.3770 - accuracy: 0.8431 - val_loss: 0.4759 - val_accuracy: 0.7937\n",
            "Epoch 103/200\n",
            "92/92 [==============================] - 3s 35ms/step - loss: 0.3733 - accuracy: 0.8482 - val_loss: 0.5053 - val_accuracy: 0.7786\n",
            "Epoch 104/200\n",
            "92/92 [==============================] - 3s 35ms/step - loss: 0.3710 - accuracy: 0.8502 - val_loss: 0.4662 - val_accuracy: 0.8032\n",
            "Epoch 105/200\n",
            "92/92 [==============================] - 3s 35ms/step - loss: 0.3724 - accuracy: 0.8496 - val_loss: 0.4598 - val_accuracy: 0.8119\n",
            "Epoch 106/200\n",
            "92/92 [==============================] - 3s 35ms/step - loss: 0.3678 - accuracy: 0.8489 - val_loss: 0.4586 - val_accuracy: 0.8000\n",
            "Epoch 107/200\n",
            "92/92 [==============================] - 3s 35ms/step - loss: 0.3673 - accuracy: 0.8472 - val_loss: 0.4597 - val_accuracy: 0.8111\n",
            "Epoch 108/200\n",
            "92/92 [==============================] - 3s 35ms/step - loss: 0.3631 - accuracy: 0.8516 - val_loss: 0.4761 - val_accuracy: 0.7984\n",
            "Epoch 109/200\n",
            "92/92 [==============================] - 3s 35ms/step - loss: 0.3624 - accuracy: 0.8533 - val_loss: 0.4574 - val_accuracy: 0.8008\n",
            "Epoch 110/200\n",
            "92/92 [==============================] - 3s 35ms/step - loss: 0.3557 - accuracy: 0.8570 - val_loss: 0.4628 - val_accuracy: 0.7952\n",
            "Epoch 111/200\n",
            "92/92 [==============================] - 3s 37ms/step - loss: 0.3509 - accuracy: 0.8581 - val_loss: 0.4541 - val_accuracy: 0.8079\n",
            "Epoch 112/200\n",
            "92/92 [==============================] - 3s 35ms/step - loss: 0.3478 - accuracy: 0.8560 - val_loss: 0.4528 - val_accuracy: 0.8071\n",
            "Epoch 113/200\n",
            "92/92 [==============================] - 3s 35ms/step - loss: 0.3480 - accuracy: 0.8618 - val_loss: 0.4474 - val_accuracy: 0.8103\n",
            "Epoch 114/200\n",
            "92/92 [==============================] - 3s 35ms/step - loss: 0.3466 - accuracy: 0.8659 - val_loss: 0.4998 - val_accuracy: 0.7897\n",
            "Epoch 115/200\n",
            "92/92 [==============================] - 3s 35ms/step - loss: 0.3463 - accuracy: 0.8625 - val_loss: 0.4452 - val_accuracy: 0.8095\n",
            "Epoch 116/200\n",
            "92/92 [==============================] - 3s 36ms/step - loss: 0.3479 - accuracy: 0.8673 - val_loss: 0.4446 - val_accuracy: 0.8087\n",
            "Epoch 117/200\n",
            "92/92 [==============================] - 3s 35ms/step - loss: 0.3421 - accuracy: 0.8604 - val_loss: 0.4406 - val_accuracy: 0.8103\n",
            "Epoch 118/200\n",
            "92/92 [==============================] - 3s 35ms/step - loss: 0.3429 - accuracy: 0.8615 - val_loss: 0.4614 - val_accuracy: 0.7937\n",
            "Epoch 119/200\n",
            "92/92 [==============================] - 3s 35ms/step - loss: 0.3402 - accuracy: 0.8666 - val_loss: 0.4742 - val_accuracy: 0.7984\n",
            "Epoch 120/200\n",
            "92/92 [==============================] - 3s 35ms/step - loss: 0.3316 - accuracy: 0.8690 - val_loss: 0.4394 - val_accuracy: 0.8198\n",
            "Epoch 121/200\n",
            "92/92 [==============================] - 3s 35ms/step - loss: 0.3314 - accuracy: 0.8730 - val_loss: 0.5087 - val_accuracy: 0.7706\n",
            "Epoch 122/200\n",
            "92/92 [==============================] - 3s 35ms/step - loss: 0.3321 - accuracy: 0.8656 - val_loss: 0.4975 - val_accuracy: 0.7897\n",
            "Epoch 123/200\n",
            "92/92 [==============================] - 3s 35ms/step - loss: 0.3274 - accuracy: 0.8744 - val_loss: 0.4371 - val_accuracy: 0.8095\n",
            "Epoch 124/200\n",
            "92/92 [==============================] - 3s 35ms/step - loss: 0.3270 - accuracy: 0.8676 - val_loss: 0.4612 - val_accuracy: 0.7992\n",
            "Epoch 125/200\n",
            "92/92 [==============================] - 3s 35ms/step - loss: 0.3272 - accuracy: 0.8645 - val_loss: 0.4435 - val_accuracy: 0.8103\n",
            "Epoch 126/200\n",
            "92/92 [==============================] - 3s 35ms/step - loss: 0.3209 - accuracy: 0.8771 - val_loss: 0.4459 - val_accuracy: 0.8103\n",
            "Epoch 127/200\n",
            "92/92 [==============================] - 3s 36ms/step - loss: 0.3242 - accuracy: 0.8696 - val_loss: 0.4549 - val_accuracy: 0.8056\n",
            "Epoch 128/200\n",
            "92/92 [==============================] - 3s 35ms/step - loss: 0.3203 - accuracy: 0.8751 - val_loss: 0.4390 - val_accuracy: 0.8143\n",
            "Epoch 129/200\n",
            "92/92 [==============================] - 3s 35ms/step - loss: 0.3144 - accuracy: 0.8758 - val_loss: 0.4400 - val_accuracy: 0.8119\n",
            "Epoch 130/200\n",
            "92/92 [==============================] - 3s 35ms/step - loss: 0.3158 - accuracy: 0.8781 - val_loss: 0.4342 - val_accuracy: 0.8127\n",
            "Epoch 131/200\n",
            "92/92 [==============================] - 3s 35ms/step - loss: 0.3128 - accuracy: 0.8713 - val_loss: 0.4319 - val_accuracy: 0.8183\n",
            "Epoch 132/200\n",
            "92/92 [==============================] - 3s 35ms/step - loss: 0.3148 - accuracy: 0.8771 - val_loss: 0.4277 - val_accuracy: 0.8127\n",
            "Epoch 133/200\n",
            "92/92 [==============================] - 3s 35ms/step - loss: 0.3160 - accuracy: 0.8775 - val_loss: 0.4249 - val_accuracy: 0.8159\n",
            "Epoch 134/200\n",
            "92/92 [==============================] - 3s 36ms/step - loss: 0.3043 - accuracy: 0.8785 - val_loss: 0.4287 - val_accuracy: 0.8167\n",
            "Epoch 135/200\n",
            "92/92 [==============================] - 3s 35ms/step - loss: 0.3125 - accuracy: 0.8802 - val_loss: 0.4384 - val_accuracy: 0.8159\n",
            "Epoch 136/200\n",
            "92/92 [==============================] - 3s 35ms/step - loss: 0.3162 - accuracy: 0.8771 - val_loss: 0.4408 - val_accuracy: 0.8111\n",
            "Epoch 137/200\n",
            "92/92 [==============================] - 3s 35ms/step - loss: 0.3031 - accuracy: 0.8809 - val_loss: 0.4323 - val_accuracy: 0.8103\n",
            "Epoch 138/200\n",
            "92/92 [==============================] - 3s 35ms/step - loss: 0.3027 - accuracy: 0.8839 - val_loss: 0.4315 - val_accuracy: 0.8095\n",
            "Epoch 139/200\n",
            "92/92 [==============================] - 3s 36ms/step - loss: 0.3063 - accuracy: 0.8775 - val_loss: 0.4359 - val_accuracy: 0.8103\n",
            "Epoch 140/200\n",
            "92/92 [==============================] - 3s 36ms/step - loss: 0.3063 - accuracy: 0.8826 - val_loss: 0.4242 - val_accuracy: 0.8087\n",
            "Epoch 141/200\n",
            "92/92 [==============================] - 3s 36ms/step - loss: 0.2992 - accuracy: 0.8822 - val_loss: 0.5061 - val_accuracy: 0.7897\n",
            "Epoch 142/200\n",
            "92/92 [==============================] - 3s 35ms/step - loss: 0.3042 - accuracy: 0.8799 - val_loss: 0.4233 - val_accuracy: 0.8127\n",
            "Epoch 143/200\n",
            "92/92 [==============================] - 3s 36ms/step - loss: 0.2987 - accuracy: 0.8863 - val_loss: 0.4229 - val_accuracy: 0.8143\n",
            "Epoch 144/200\n",
            "92/92 [==============================] - 3s 36ms/step - loss: 0.2924 - accuracy: 0.8867 - val_loss: 0.4210 - val_accuracy: 0.8119\n",
            "Epoch 145/200\n",
            "92/92 [==============================] - 3s 36ms/step - loss: 0.2924 - accuracy: 0.8884 - val_loss: 0.4368 - val_accuracy: 0.8167\n",
            "Epoch 146/200\n",
            "92/92 [==============================] - 3s 36ms/step - loss: 0.2901 - accuracy: 0.8897 - val_loss: 0.4244 - val_accuracy: 0.8127\n",
            "Epoch 147/200\n",
            "92/92 [==============================] - 3s 36ms/step - loss: 0.2944 - accuracy: 0.8846 - val_loss: 0.4314 - val_accuracy: 0.8143\n",
            "Epoch 148/200\n",
            "92/92 [==============================] - 3s 36ms/step - loss: 0.2846 - accuracy: 0.8880 - val_loss: 0.4647 - val_accuracy: 0.8016\n",
            "Epoch 149/200\n",
            "92/92 [==============================] - 3s 36ms/step - loss: 0.2924 - accuracy: 0.8843 - val_loss: 0.4140 - val_accuracy: 0.8230\n",
            "Epoch 150/200\n",
            "92/92 [==============================] - 3s 38ms/step - loss: 0.2868 - accuracy: 0.8877 - val_loss: 0.4391 - val_accuracy: 0.8175\n",
            "Epoch 151/200\n",
            "92/92 [==============================] - 3s 38ms/step - loss: 0.2815 - accuracy: 0.8884 - val_loss: 0.4150 - val_accuracy: 0.8198\n",
            "Epoch 152/200\n",
            "92/92 [==============================] - 3s 35ms/step - loss: 0.2835 - accuracy: 0.8914 - val_loss: 0.4444 - val_accuracy: 0.8056\n",
            "Epoch 153/200\n",
            "92/92 [==============================] - 3s 36ms/step - loss: 0.2781 - accuracy: 0.8945 - val_loss: 0.4176 - val_accuracy: 0.8135\n",
            "Epoch 154/200\n",
            "92/92 [==============================] - 3s 35ms/step - loss: 0.2833 - accuracy: 0.8952 - val_loss: 0.4264 - val_accuracy: 0.8175\n",
            "Epoch 155/200\n",
            "92/92 [==============================] - 3s 36ms/step - loss: 0.2735 - accuracy: 0.8945 - val_loss: 0.4675 - val_accuracy: 0.7889\n",
            "Epoch 156/200\n",
            "92/92 [==============================] - 3s 35ms/step - loss: 0.2830 - accuracy: 0.8935 - val_loss: 0.4376 - val_accuracy: 0.8143\n",
            "Epoch 157/200\n",
            "92/92 [==============================] - 3s 35ms/step - loss: 0.2726 - accuracy: 0.8941 - val_loss: 0.4327 - val_accuracy: 0.8190\n",
            "Epoch 158/200\n",
            "92/92 [==============================] - 3s 35ms/step - loss: 0.2700 - accuracy: 0.8996 - val_loss: 0.4335 - val_accuracy: 0.8071\n",
            "Epoch 159/200\n",
            "92/92 [==============================] - 3s 35ms/step - loss: 0.2715 - accuracy: 0.8965 - val_loss: 0.4404 - val_accuracy: 0.8167\n",
            "Epoch 160/200\n",
            "92/92 [==============================] - 3s 36ms/step - loss: 0.2689 - accuracy: 0.9013 - val_loss: 0.4868 - val_accuracy: 0.8048\n",
            "Epoch 161/200\n",
            "92/92 [==============================] - 3s 36ms/step - loss: 0.2715 - accuracy: 0.8975 - val_loss: 0.4686 - val_accuracy: 0.7817\n",
            "Epoch 162/200\n",
            "92/92 [==============================] - 3s 36ms/step - loss: 0.2673 - accuracy: 0.8982 - val_loss: 0.4243 - val_accuracy: 0.8278\n",
            "Epoch 163/200\n",
            "92/92 [==============================] - 3s 36ms/step - loss: 0.2618 - accuracy: 0.9074 - val_loss: 0.4273 - val_accuracy: 0.8222\n",
            "Epoch 164/200\n",
            "92/92 [==============================] - 3s 35ms/step - loss: 0.2652 - accuracy: 0.9013 - val_loss: 0.4241 - val_accuracy: 0.8254\n",
            "Epoch 165/200\n",
            "92/92 [==============================] - 3s 35ms/step - loss: 0.2642 - accuracy: 0.8986 - val_loss: 0.4935 - val_accuracy: 0.8056\n",
            "Epoch 166/200\n",
            "92/92 [==============================] - 3s 35ms/step - loss: 0.2561 - accuracy: 0.9071 - val_loss: 0.4410 - val_accuracy: 0.8175\n",
            "Epoch 167/200\n",
            "92/92 [==============================] - 3s 35ms/step - loss: 0.2627 - accuracy: 0.8993 - val_loss: 0.4238 - val_accuracy: 0.8183\n",
            "Epoch 168/200\n",
            "92/92 [==============================] - 3s 35ms/step - loss: 0.2540 - accuracy: 0.9078 - val_loss: 0.4198 - val_accuracy: 0.8135\n",
            "Epoch 169/200\n",
            "92/92 [==============================] - 3s 35ms/step - loss: 0.2521 - accuracy: 0.9088 - val_loss: 0.4328 - val_accuracy: 0.8206\n",
            "Epoch 170/200\n",
            "92/92 [==============================] - 3s 35ms/step - loss: 0.2593 - accuracy: 0.9030 - val_loss: 0.4306 - val_accuracy: 0.8159\n",
            "Epoch 171/200\n",
            "92/92 [==============================] - 3s 35ms/step - loss: 0.2579 - accuracy: 0.9061 - val_loss: 0.4130 - val_accuracy: 0.8190\n",
            "Epoch 172/200\n",
            "92/92 [==============================] - 3s 37ms/step - loss: 0.2535 - accuracy: 0.9047 - val_loss: 0.4102 - val_accuracy: 0.8135\n",
            "Epoch 173/200\n",
            "92/92 [==============================] - 3s 36ms/step - loss: 0.2513 - accuracy: 0.9027 - val_loss: 0.4251 - val_accuracy: 0.8167\n",
            "Epoch 174/200\n",
            "92/92 [==============================] - 3s 36ms/step - loss: 0.2495 - accuracy: 0.9064 - val_loss: 0.4195 - val_accuracy: 0.8214\n",
            "Epoch 175/200\n",
            "92/92 [==============================] - 3s 36ms/step - loss: 0.2497 - accuracy: 0.9105 - val_loss: 0.4217 - val_accuracy: 0.8127\n",
            "Epoch 176/200\n",
            "92/92 [==============================] - 3s 38ms/step - loss: 0.2428 - accuracy: 0.9108 - val_loss: 0.4241 - val_accuracy: 0.8103\n",
            "Epoch 177/200\n",
            "92/92 [==============================] - 3s 38ms/step - loss: 0.2472 - accuracy: 0.9064 - val_loss: 0.4052 - val_accuracy: 0.8214\n",
            "Epoch 178/200\n",
            "92/92 [==============================] - 3s 38ms/step - loss: 0.2406 - accuracy: 0.9170 - val_loss: 0.4157 - val_accuracy: 0.8206\n",
            "Epoch 179/200\n",
            "92/92 [==============================] - 3s 35ms/step - loss: 0.2451 - accuracy: 0.9067 - val_loss: 0.4132 - val_accuracy: 0.8214\n",
            "Epoch 180/200\n",
            "92/92 [==============================] - 3s 35ms/step - loss: 0.2397 - accuracy: 0.9125 - val_loss: 0.4475 - val_accuracy: 0.8095\n",
            "Epoch 181/200\n",
            "92/92 [==============================] - 3s 36ms/step - loss: 0.2344 - accuracy: 0.9146 - val_loss: 0.4408 - val_accuracy: 0.8206\n",
            "Epoch 182/200\n",
            "92/92 [==============================] - 3s 35ms/step - loss: 0.2380 - accuracy: 0.9142 - val_loss: 0.4284 - val_accuracy: 0.8190\n",
            "Epoch 183/200\n",
            "92/92 [==============================] - 3s 36ms/step - loss: 0.2371 - accuracy: 0.9152 - val_loss: 0.4013 - val_accuracy: 0.8286\n",
            "Epoch 184/200\n",
            "92/92 [==============================] - 3s 36ms/step - loss: 0.2391 - accuracy: 0.9156 - val_loss: 0.4263 - val_accuracy: 0.8056\n",
            "Epoch 185/200\n",
            "92/92 [==============================] - 3s 36ms/step - loss: 0.2359 - accuracy: 0.9156 - val_loss: 0.4066 - val_accuracy: 0.8373\n",
            "Epoch 186/200\n",
            "92/92 [==============================] - 3s 36ms/step - loss: 0.2299 - accuracy: 0.9146 - val_loss: 0.4523 - val_accuracy: 0.8246\n",
            "Epoch 187/200\n",
            "92/92 [==============================] - 3s 35ms/step - loss: 0.2335 - accuracy: 0.9129 - val_loss: 0.4192 - val_accuracy: 0.8087\n",
            "Epoch 188/200\n",
            "92/92 [==============================] - 4s 38ms/step - loss: 0.2329 - accuracy: 0.9152 - val_loss: 0.4042 - val_accuracy: 0.8262\n",
            "Epoch 189/200\n",
            "92/92 [==============================] - 3s 35ms/step - loss: 0.2302 - accuracy: 0.9139 - val_loss: 0.4142 - val_accuracy: 0.8238\n",
            "Epoch 190/200\n",
            "92/92 [==============================] - 3s 35ms/step - loss: 0.2218 - accuracy: 0.9234 - val_loss: 0.4334 - val_accuracy: 0.8135\n",
            "Epoch 191/200\n",
            "92/92 [==============================] - 3s 36ms/step - loss: 0.2256 - accuracy: 0.9193 - val_loss: 0.4645 - val_accuracy: 0.7913\n",
            "Epoch 192/200\n",
            "92/92 [==============================] - 3s 37ms/step - loss: 0.2193 - accuracy: 0.9210 - val_loss: 0.4653 - val_accuracy: 0.7952\n",
            "Epoch 193/200\n",
            "92/92 [==============================] - 3s 36ms/step - loss: 0.2264 - accuracy: 0.9183 - val_loss: 0.4577 - val_accuracy: 0.8111\n",
            "Epoch 194/200\n",
            "92/92 [==============================] - 3s 36ms/step - loss: 0.2196 - accuracy: 0.9227 - val_loss: 0.4047 - val_accuracy: 0.8365\n",
            "Epoch 195/200\n",
            "92/92 [==============================] - 3s 38ms/step - loss: 0.2266 - accuracy: 0.9142 - val_loss: 0.4015 - val_accuracy: 0.8317\n",
            "Epoch 196/200\n",
            "92/92 [==============================] - 3s 35ms/step - loss: 0.2220 - accuracy: 0.9214 - val_loss: 0.4038 - val_accuracy: 0.8230\n",
            "Epoch 197/200\n",
            "92/92 [==============================] - 3s 38ms/step - loss: 0.2167 - accuracy: 0.9278 - val_loss: 0.4768 - val_accuracy: 0.8143\n",
            "Epoch 198/200\n",
            "92/92 [==============================] - 3s 36ms/step - loss: 0.2163 - accuracy: 0.9248 - val_loss: 0.4272 - val_accuracy: 0.8286\n",
            "Epoch 199/200\n",
            "92/92 [==============================] - 3s 36ms/step - loss: 0.2196 - accuracy: 0.9187 - val_loss: 0.4366 - val_accuracy: 0.8127\n",
            "Epoch 200/200\n",
            "92/92 [==============================] - 3s 35ms/step - loss: 0.2115 - accuracy: 0.9221 - val_loss: 0.4406 - val_accuracy: 0.8127\n"
          ]
        }
      ]
    },
    {
      "cell_type": "markdown",
      "metadata": {
        "id": "eRiUJZizuaXC"
      },
      "source": [
        "# Observation"
      ]
    },
    {
      "cell_type": "markdown",
      "metadata": {
        "id": "BIPNvCCEuaXC"
      },
      "source": [
        ">By giving batch size 50 and test size 30% and using optimizer ADAM we found acc 99,86 and loss 0.02,0.60 for training and testing(without using any act. fun in output layer)\n",
        "\n",
        ">By giving batch size 50 and test size 30% and using SGD as optimizer accuracy found 89,79 and loss found 0.26,0.60(loss for testing flacutating) for training and validation. \n",
        "\n",
        ">By using ADAMAX optimizer with 50 epoch accuracy found 100,86 and loss found 0.001 and 0.56(loss of test lies between 0.60 to 0.50) for training and validation.(without using any act. fun in output layer)\n",
        "\n",
        ">Using Adadelta with 50 epoch accuracy and loss found 55,53(same acc flowing for 20 no of epochs) and 1.02,1.02 (same loss flowing after certain no of epoch)"
      ]
    },
    {
      "cell_type": "code",
      "metadata": {
        "id": "jl-WqD0DuaXC",
        "colab": {
          "base_uri": "https://localhost:8080/"
        },
        "outputId": "958b3e4c-61d6-4e0a-804e-65e5d2463d09"
      },
      "source": [
        "# Evaluating the Predictions on the Model\n",
        "\n",
        "score = cnn2.evaluate(x_test, y_test, verbose=0)\n",
        "print('Test loss:', score[0])\n",
        "print('Test accuracy:', score[1])"
      ],
      "execution_count": null,
      "outputs": [
        {
          "output_type": "stream",
          "name": "stdout",
          "text": [
            "Test loss: 0.4405919015407562\n",
            "Test accuracy: 0.8126984238624573\n"
          ]
        }
      ]
    },
    {
      "cell_type": "code",
      "metadata": {
        "id": "f4mq1mTQuaXD",
        "colab": {
          "base_uri": "https://localhost:8080/"
        },
        "outputId": "0799cefa-3c64-41d0-9e17-beb2b8632e7a"
      },
      "source": [
        "y_pred=[]\n",
        "for i in range(len(x_test)):\n",
        "        y_pred.append(cnn2.predict(x_test[i].reshape(1,100,100,3)))\n",
        "        \n",
        "len(y_test),len(y_pred)"
      ],
      "execution_count": null,
      "outputs": [
        {
          "output_type": "execute_result",
          "data": {
            "text/plain": [
              "(1260, 1260)"
            ]
          },
          "metadata": {},
          "execution_count": 40
        }
      ]
    },
    {
      "cell_type": "code",
      "metadata": {
        "id": "zfBpBvx2uaXD",
        "colab": {
          "base_uri": "https://localhost:8080/"
        },
        "outputId": "42a4cc90-a3d9-4a3d-fb24-89b34c69d848"
      },
      "source": [
        "y_pred[:10]  #to get max probability value we use argmax"
      ],
      "execution_count": null,
      "outputs": [
        {
          "output_type": "execute_result",
          "data": {
            "text/plain": [
              "[array([[3.8417156e-06, 9.9999583e-01, 3.6779892e-07]], dtype=float32),\n",
              " array([[1.062967e-01, 8.937024e-01, 8.673176e-07]], dtype=float32),\n",
              " array([[0.8735566 , 0.12516667, 0.00127672]], dtype=float32),\n",
              " array([[0.92666376, 0.03670622, 0.03663005]], dtype=float32),\n",
              " array([[0.023573  , 0.03225016, 0.94417685]], dtype=float32),\n",
              " array([[0.98075324, 0.01373157, 0.00551523]], dtype=float32),\n",
              " array([[9.2007107e-01, 7.9927437e-02, 1.5030772e-06]], dtype=float32),\n",
              " array([[7.2060651e-03, 3.2653476e-04, 9.9246734e-01]], dtype=float32),\n",
              " array([[2.9610943e-03, 6.0210651e-04, 9.9643683e-01]], dtype=float32),\n",
              " array([[4.1406485e-01, 5.8579946e-01, 1.3578947e-04]], dtype=float32)]"
            ]
          },
          "metadata": {},
          "execution_count": 41
        }
      ]
    },
    {
      "cell_type": "code",
      "metadata": {
        "id": "zVRgnyAluaXD",
        "colab": {
          "base_uri": "https://localhost:8080/"
        },
        "outputId": "ce1dc834-7932-4f11-9142-71387eb8ba42"
      },
      "source": [
        "result=[]\n",
        "for i in range(len(x_test)):\n",
        "    result.append(np.argmax(y_pred[i],axis=1)) #it will take index value for which value is maxiumum of that array\n",
        "result[:10]"
      ],
      "execution_count": null,
      "outputs": [
        {
          "output_type": "execute_result",
          "data": {
            "text/plain": [
              "[array([1]),\n",
              " array([1]),\n",
              " array([0]),\n",
              " array([0]),\n",
              " array([2]),\n",
              " array([0]),\n",
              " array([0]),\n",
              " array([2]),\n",
              " array([2]),\n",
              " array([1])]"
            ]
          },
          "metadata": {},
          "execution_count": 42
        }
      ]
    },
    {
      "cell_type": "code",
      "metadata": {
        "id": "scLWVxP5uaXD",
        "colab": {
          "base_uri": "https://localhost:8080/",
          "height": 1000
        },
        "outputId": "c1835250-ccfd-4929-9658-6e2f556b9237"
      },
      "source": [
        "cnn2.summary()\n",
        "\n",
        "\n",
        "y_pred2=result\n",
        "\n",
        "print(\"*-*\"*40)\n",
        "print(\"Accuracy Found: \",accuracy_score(y_test,np.array(y_pred2)))\n",
        "#using adam accuracy was 83%\n",
        "#using adadelta accuracy was 89%\n",
        "print(\"*-*\"*40)\n",
        "print(\"Confusion Matrix:\\n\",confusion_matrix(y_test,np.array(y_pred2))) \n",
        "print(\"*-*\"*40)\n",
        "print(\"Classification Report:\\n\",classification_report(y_test,np.array(y_pred2)))\n",
        "print(\"*-*\"*40)\n",
        "\n",
        "#plt.figure(figsize=(15,9))\n",
        "plt.title('Loss Comparison',fontsize=20)\n",
        "plt.plot(history2.history['loss'],)\n",
        "plt.plot(history2.history['val_loss'])\n",
        "plt.legend(['Training Loss','Validation Loss'])\n",
        "plt.show()\n",
        "\n",
        "\n",
        "#plt.figure(figsize=(15,9))\n",
        "plt.title('Accuracy comparison ',fontsize=20)\n",
        "plt.plot(history2.history['accuracy'],)\n",
        "plt.plot(history2.history['val_accuracy'])\n",
        "plt.legend(['Training Acc','Validation Acc'])\n",
        "plt.show()"
      ],
      "execution_count": null,
      "outputs": [
        {
          "output_type": "stream",
          "name": "stdout",
          "text": [
            "Model: \"sequential\"\n",
            "_________________________________________________________________\n",
            " Layer (type)                Output Shape              Param #   \n",
            "=================================================================\n",
            " conv2d (Conv2D)             (None, 100, 100, 32)      896       \n",
            "                                                                 \n",
            " max_pooling2d (MaxPooling2D  (None, 50, 50, 32)       0         \n",
            " )                                                               \n",
            "                                                                 \n",
            " conv2d_1 (Conv2D)           (None, 50, 50, 64)        18496     \n",
            "                                                                 \n",
            " max_pooling2d_1 (MaxPooling  (None, 25, 25, 64)       0         \n",
            " 2D)                                                             \n",
            "                                                                 \n",
            " conv2d_2 (Conv2D)           (None, 25, 25, 128)       73856     \n",
            "                                                                 \n",
            " max_pooling2d_2 (MaxPooling  (None, 12, 12, 128)      0         \n",
            " 2D)                                                             \n",
            "                                                                 \n",
            " conv2d_3 (Conv2D)           (None, 12, 12, 256)       295168    \n",
            "                                                                 \n",
            " max_pooling2d_3 (MaxPooling  (None, 6, 6, 256)        0         \n",
            " 2D)                                                             \n",
            "                                                                 \n",
            " flatten (Flatten)           (None, 9216)              0         \n",
            "                                                                 \n",
            " dense (Dense)               (None, 256)               2359552   \n",
            "                                                                 \n",
            " dense_1 (Dense)             (None, 128)               32896     \n",
            "                                                                 \n",
            " dense_2 (Dense)             (None, 3)                 387       \n",
            "                                                                 \n",
            "=================================================================\n",
            "Total params: 2,781,251\n",
            "Trainable params: 2,781,251\n",
            "Non-trainable params: 0\n",
            "_________________________________________________________________\n",
            "*-**-**-**-**-**-**-**-**-**-**-**-**-**-**-**-**-**-**-**-**-**-**-**-**-**-**-**-**-**-**-**-**-**-**-**-**-**-**-**-*\n",
            "Accuracy Found:  0.8126984126984127\n",
            "*-**-**-**-**-**-**-**-**-**-**-**-**-**-**-**-**-**-**-**-**-**-**-**-**-**-**-**-**-**-**-**-**-**-**-**-**-**-**-**-*\n",
            "Confusion Matrix:\n",
            " [[333  71  86]\n",
            " [ 47 280  17]\n",
            " [  9   6 411]]\n",
            "*-**-**-**-**-**-**-**-**-**-**-**-**-**-**-**-**-**-**-**-**-**-**-**-**-**-**-**-**-**-**-**-**-**-**-**-**-**-**-**-*\n",
            "Classification Report:\n",
            "               precision    recall  f1-score   support\n",
            "\n",
            "           0       0.86      0.68      0.76       490\n",
            "           1       0.78      0.81      0.80       344\n",
            "           2       0.80      0.96      0.87       426\n",
            "\n",
            "    accuracy                           0.81      1260\n",
            "   macro avg       0.81      0.82      0.81      1260\n",
            "weighted avg       0.82      0.81      0.81      1260\n",
            "\n",
            "*-**-**-**-**-**-**-**-**-**-**-**-**-**-**-**-**-**-**-**-**-**-**-**-**-**-**-**-**-**-**-**-**-**-**-**-**-**-**-**-*\n"
          ]
        },
        {
          "output_type": "display_data",
          "data": {
            "image/png": "[encoded data removed]",
            "text/plain": [
              "<Figure size 432x288 with 1 Axes>"
            ]
          },
          "metadata": {
            "needs_background": "light"
          }
        },
        {
          "output_type": "display_data",
          "data": {
            "image/png": "[encoded data removed]",
            "text/plain": [
              "<Figure size 432x288 with 1 Axes>"
            ]
          },
          "metadata": {
            "needs_background": "light"
          }
        }
      ]
    },
    {
      "cell_type": "code",
      "metadata": {
        "id": "OAO1SuqNuaXE",
        "colab": {
          "base_uri": "https://localhost:8080/"
        },
        "outputId": "d93d1d2c-1181-45f7-87d4-9c62baee1bf0"
      },
      "source": [
        "#pickle and joblib\n",
        "from keras.models import save_model\n",
        "from keras.models import load_model\n",
        "#model.save(\"Banana_leaf_classification.h5\") \n",
        "\n",
        "\n",
        "# Save the model\n",
        "filepath = '/content/Bacterias'\n",
        "save_model(cnn2, filepath)\n",
        "\n",
        "\n",
        "cnn2.save(\"BananaLeaf_classifier.h5\")"
      ],
      "execution_count": null,
      "outputs": [
        {
          "output_type": "stream",
          "name": "stdout",
          "text": [
            "INFO:tensorflow:Assets written to: /content/Bacterias/assets\n"
          ]
        }
      ]
    },
    {
      "cell_type": "code",
      "metadata": {
        "id": "UZVN0hwzuaXE"
      },
      "source": [
        "#path=r'C:\\Users\\sahoo\\Desktop\\Banana_leaf_disease\\Deploy'\n",
        "cnn2.save(\"/content/Bacterias/BananaLeaf_classifier.h5\")"
      ],
      "execution_count": null,
      "outputs": []
    },
    {
      "cell_type": "markdown",
      "metadata": {
        "id": "fHoQKVTHuaXE"
      },
      "source": [
        "# Model Testing"
      ]
    },
    {
      "cell_type": "code",
      "metadata": {
        "id": "BVSxwg5wuaXE"
      },
      "source": [
        "# Load the model\n",
        "from keras.models import load_model\n",
        "\n",
        "mymodel = load_model(\"/content/Bacterias/BananaLeaf_classifier.h5\")"
      ],
      "execution_count": null,
      "outputs": []
    },
    {
      "cell_type": "code",
      "metadata": {
        "scrolled": false,
        "id": "Ht_Y7WqguaXE",
        "outputId": "4b23043a-2445-49e4-9348-4d670088b043",
        "colab": {
          "base_uri": "https://localhost:8080/"
        }
      },
      "source": [
        "mymodel.summary()"
      ],
      "execution_count": null,
      "outputs": [
        {
          "output_type": "stream",
          "name": "stdout",
          "text": [
            "Model: \"sequential\"\n",
            "_________________________________________________________________\n",
            " Layer (type)                Output Shape              Param #   \n",
            "=================================================================\n",
            " conv2d (Conv2D)             (None, 100, 100, 32)      896       \n",
            "                                                                 \n",
            " max_pooling2d (MaxPooling2D  (None, 50, 50, 32)       0         \n",
            " )                                                               \n",
            "                                                                 \n",
            " conv2d_1 (Conv2D)           (None, 50, 50, 64)        18496     \n",
            "                                                                 \n",
            " max_pooling2d_1 (MaxPooling  (None, 25, 25, 64)       0         \n",
            " 2D)                                                             \n",
            "                                                                 \n",
            " conv2d_2 (Conv2D)           (None, 25, 25, 128)       73856     \n",
            "                                                                 \n",
            " max_pooling2d_2 (MaxPooling  (None, 12, 12, 128)      0         \n",
            " 2D)                                                             \n",
            "                                                                 \n",
            " conv2d_3 (Conv2D)           (None, 12, 12, 256)       295168    \n",
            "                                                                 \n",
            " max_pooling2d_3 (MaxPooling  (None, 6, 6, 256)        0         \n",
            " 2D)                                                             \n",
            "                                                                 \n",
            " flatten (Flatten)           (None, 9216)              0         \n",
            "                                                                 \n",
            " dense (Dense)               (None, 256)               2359552   \n",
            "                                                                 \n",
            " dense_1 (Dense)             (None, 128)               32896     \n",
            "                                                                 \n",
            " dense_2 (Dense)             (None, 3)                 387       \n",
            "                                                                 \n",
            "=================================================================\n",
            "Total params: 2,781,251\n",
            "Trainable params: 2,781,251\n",
            "Non-trainable params: 0\n",
            "_________________________________________________________________\n"
          ]
        }
      ]
    },
    {
      "cell_type": "code",
      "metadata": {
        "scrolled": false,
        "id": "s-q2C6d7uaXF",
        "colab": {
          "base_uri": "https://localhost:8080/"
        },
        "outputId": "9da46096-8c1d-488d-cfe1-946495c7086c"
      },
      "source": [
        "def prediction(result,model): #type of result should be an array\n",
        "    arr=cv2.resize(result,(100,100))\n",
        "    y_prediction= mymodel.predict(arr.reshape(1,100,100,3))\n",
        "    result=np.argmax(y_prediction,axis=1) #take the index value of that array which value is maximum\n",
        "    if result==0:\n",
        "        print('It has a disease called Black Bacterial Wilt')\n",
        "    elif result==1:\n",
        "        print('It has a disease called Black Sigatoka Disease')\n",
        "    elif result==2:\n",
        "        print('Wohh!!! It is a healthy Leaf')\n",
        "        \n",
        "prediction(x_test[309],mymodel)"
      ],
      "execution_count": null,
      "outputs": [
        {
          "output_type": "stream",
          "name": "stdout",
          "text": [
            "It has a disease called Black Sigatoka Disease\n"
          ]
        }
      ]
    },
    {
      "cell_type": "code",
      "metadata": {
        "id": "pXSFTgNVuaXF",
        "colab": {
          "base_uri": "https://localhost:8080/"
        },
        "outputId": "cb32f058-c4c2-4911-bff8-44257fb07443"
      },
      "source": [
        "y_test[309]"
      ],
      "execution_count": null,
      "outputs": [
        {
          "output_type": "execute_result",
          "data": {
            "text/plain": [
              "1"
            ]
          },
          "metadata": {},
          "execution_count": 57
        }
      ]
    },
    {
      "cell_type": "markdown",
      "metadata": {
        "id": "eKEf1NEbuaXF"
      },
      "source": [
        "# Model Deployment"
      ]
    },
    {
      "cell_type": "code",
      "metadata": {
        "id": "zgG6ZbmAuaXF"
      },
      "source": [
        "#In the next folder you can see the deployment for this model"
      ],
      "execution_count": null,
      "outputs": []
    },
    {
      "cell_type": "code",
      "metadata": {
        "id": "wICb6vbsuaXF"
      },
      "source": [
        "#deployment is done on myapp.py file "
      ],
      "execution_count": null,
      "outputs": []
    }
  ]
}